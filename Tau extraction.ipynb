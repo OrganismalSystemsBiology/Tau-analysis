{
 "cells": [
  {
   "cell_type": "code",
   "execution_count": 2,
   "metadata": {},
   "outputs": [],
   "source": [
    "import cv2\n",
    "import numpy as np\n",
    "from matplotlib import pyplot as plt\n",
    "from scipy import ndimage\n",
    "from skimage import measure, color, io\n",
    "\n",
    "%matplotlib inline\n",
    "import matplotlib.pyplot as plt\n",
    "import numpy as np\n",
    "import joblib, json, sys, os\n",
    "from IPython.display import Image, display_png\n",
    "import json, glob, os.path\n",
    "\n",
    "import tifffile\n",
    "import pandas as pd\n",
    "import sys, os, os.path, re, csv, math\n",
    "import linecache\n",
    "from statistics import mean,stdev\n",
    "import seaborn as sns\n",
    "\n",
    "import csv\n",
    "import pprint\n",
    "from statannotations.Annotator import Annotator\n",
    "\n",
    "import skimage.morphology\n",
    "import sklearn.mixture\n",
    "\n",
    "\n",
    "# This code was developed by modifying the CUBIC-informatics code \n",
    "# from Matsumoto, Mitani, Horiguchi et al., Nature Protocols 2019 (https://github.com/lsb-riken/CUBIC-informatics).\n",
    "# This analysis includes some unnecessary parameters, but default values are provided for compatibility purposes.\n",
    "\n",
    "# Note: We are currently using local directory names for data paths (e.g., /export3/Imaging/...).\n",
    "# Please replace these with your own file paths as needed.\n",
    "\n",
    "depth=3\n",
    "sigma_z=(1, 1)\n",
    "sigma_xy=(8.0, 10.0)\n",
    "radius_small=(24,3)\n",
    "radius_large=(100,5)\n",
    "gamma=1.0\n",
    "\n",
    "class HDoG_CPU(object):\n",
    "    def __init__(self, width=2048, height=2048, depth=None, sigma_xy=(4.0, 6.0), sigma_z=(1.8,2.7),\n",
    "                 radius_small=(24,3), radius_large=(100,5), min_intensity=1000, gamma=1.0):\n",
    "        self.width  = width\n",
    "        self.height = height\n",
    "        self.depth  = depth\n",
    "\n",
    "        if type(sigma_xy) in [float,int]:\n",
    "            self.sigma_xy = (sigma_xy, sigma_xy*1.5)\n",
    "        else:\n",
    "            self.sigma_xy = sigma_xy\n",
    "        if type(sigma_z) in [float,int]:\n",
    "            self.sigma_z = (sigma_z, sigma_z*1.5)\n",
    "        else:\n",
    "            self.sigma_z = sigma_z\n",
    "\n",
    "        if not radius_small:\n",
    "            self.radius_small_xy = int(self.sigma_xy[1]*4)\n",
    "            self.radius_small_z = int(self.sigma_z[1]*2)\n",
    "        else:\n",
    "            self.radius_small_xy = radius_small[0]\n",
    "            self.radius_small_z = radius_small[1]\n",
    "        self.size_small = (self.radius_small_z*2+1, self.radius_small_xy*2+1, self.radius_small_xy*2+1)#self.radius_small_z*2+1\n",
    "\n",
    "        if not radius_large:\n",
    "            self.radius_large_xy = int(self.sigma_xy[1]*30)\n",
    "            self.radius_large_xy = int(self.sigma_z[1]*10)\n",
    "        else:\n",
    "            self.radius_large_xy = radius_large[0]\n",
    "            self.radius_large_z = radius_large[1]\n",
    "        self.size_large = (self.radius_large_z*2+1, self.radius_large_xy*2+1, self.radius_large_xy*2+1)#self.radius_large_z*2+1\n",
    "\n",
    "        self.min_intensity = min_intensity\n",
    "\n",
    "        self.gamma = gamma\n",
    "        self.normalizer = (self.sigma_xy[0]**(gamma*2)) * (self.sigma_z[0]**gamma)\n",
    "\n",
    "    def load_images(self, list_images, dtype=np.uint16, height=2048, width=2060):\n",
    "        # self.height, self.width, self.depthを書き換えた\n",
    "        imgs = []\n",
    "        for path in list_images:\n",
    "            img = np.fromfile(path, dtype=dtype).reshape(height, width)\n",
    "            imgs.append(img)\n",
    "        imgs = np.array(imgs)\n",
    "        depth = imgs.shape[0]\n",
    "        return imgs\n",
    "\n",
    "    def Normalize(self, src_img):\n",
    "        print(\"Normalize start\")\n",
    "        dilation_l_img = scipy.ndimage.filters.uniform_filter(\n",
    "            scipy.ndimage.morphology.grey_dilation(src_img, size=size_large, mode=\"nearest\").astype(np.float32),\n",
    "            size=size_large, mode=\"constant\", cval=0)\n",
    "        print(\"Dilation finish\")\n",
    "        erosion_l_img = scipy.ndimage.filters.uniform_filter(\n",
    "            scipy.ndimage.morphology.grey_erosion(src_img, size=size_large, mode=\"nearest\").astype(np.float32),\n",
    "            size=size_large, mode=\"constant\", cval=0)\n",
    "        print(\"Erosion finish\")\n",
    "\n",
    "        intensity = src_img.astype(np.float32)\n",
    "        #norm_img = ((intensity >= min_intensity) * intensity - erosion_l_img) / (dilation_l_img - erosion_l_img)\n",
    "        norm_img = (intensity >= min_intensity) * intensity / (dilation_l_img - erosion_l_img)\n",
    "        print(\"Normalize finish\")\n",
    "        return norm_img\n",
    "\n",
    "    def CCL(self, pd_img):\n",
    "        labels_img = skimage.morphology.label(pd_img)\n",
    "        return labels_img"
   ]
  },
  {
   "cell_type": "code",
   "execution_count": 5,
   "metadata": {},
   "outputs": [
    {
     "name": "stdout",
     "output_type": "stream",
     "text": [
      "(11, 201, 201)\n"
     ]
    }
   ],
   "source": [
    "if type(sigma_xy) in [float,int]:\n",
    "    sigma_xy = (sigma_xy, sigma_xy*1.5)\n",
    "else:\n",
    "    sigma_xy = sigma_xy\n",
    "if type(sigma_z) in [float,int]:\n",
    "    sigma_z = (sigma_z, sigma_z*1.5)\n",
    "else:\n",
    "    sigma_z = sigma_z\n",
    "\n",
    "if not radius_small:\n",
    "    radius_small_xy = int(sigma_xy[1]*4)\n",
    "    radius_small_z = int(sigma_z[1]*2)\n",
    "else:\n",
    "    radius_small_xy = radius_small[0]\n",
    "    radius_small_z = radius_small[1]\n",
    "size_small = (radius_small_z*2+1, radius_small_xy*2+1, radius_small_xy*2+1)\n",
    "\n",
    "if not radius_large:\n",
    "    radius_large_xy = int(sigma_xy[1]*30)\n",
    "    radius_large_xy = int(sigma_z[1]*10)\n",
    "else:\n",
    "    radius_large_xy = radius_large[0]\n",
    "    radius_large_z = radius_large[1]\n",
    "size_large = (radius_large_z*2+1, radius_large_xy*2+1, radius_large_xy*2+1)\n",
    "\n",
    "#min_intensity = min_intensity\n",
    "\n",
    "gamma = gamma\n",
    "normalizer = (sigma_xy[0]**(gamma*2)) * (sigma_z[0]**gamma)\n",
    "\n",
    "print(size_large)"
   ]
  },
  {
   "cell_type": "code",
   "execution_count": 8,
   "metadata": {},
   "outputs": [],
   "source": [
    "# Let's begin the extraction of Tau deposition ROIs (regions of interest) using Gaussian-mean difference.\n",
    "# For detailed information, please refer to the Materials and Methods section."
   ]
  },
  {
   "cell_type": "code",
   "execution_count": 8,
   "metadata": {},
   "outputs": [],
   "source": [
    "# 3D image path\n",
    "# Note: We are currently using our local directory names (e.g., /export3/Imaging/...) for data paths.\n",
    "# Please refer to the same name files uploaded on GitHub as needed.\n",
    "\n",
    "# src_dir_SYTOXG: nuclear stained whole-brain data. This is needed for whole-brain registration to atlas. \n",
    "# src_dir_Tau: pTau whole-brain data.\n",
    "## In this study, we utilized the CUBIC-Cloud registration software, a paid service.\n",
    "## For those preferring a local setup, an alternative using ANTs registration with CUBIC-atlas 1.1 is available. For more information, refer to Mano et al., 2021.\n",
    "## Detailed instructions for this alternative setup (excluding CUBIC-Cloud) are provided in this ipynb file.\n",
    "\n",
    "# Note: This github does not currently include source data from light-sheet imaging.If you contact us via e-mail or github, we can share you.\n",
    "\n",
    "PathPool=[\"Sahara_project/ID357_6.5_6.5_8.3um_version/\"] \n",
    "dir1 = \"/export3/Imaging/Axial/\"+PathPool[0]\n",
    "\n",
    "src_dir_SYTOXG = \"ID357_SYTOX_Tiled_image_stack_8bit.tiff\"\n",
    "src_dir_Tau = \"ID357_Tau_Tiled_image_stack_8bit_RP+.tiff\"\n",
    "\n",
    "Dir = \"/export3/Imaging/Axial/\"+PathPool[0]+\"/\" + src_dir_SYTOXG # SYTOXG\n",
    "image_nuc = tifffile.imread(Dir)\n",
    "\n",
    "Dir = \"/export3/Imaging/Axial/\"+PathPool[0]+\"/\" + src_dir_Tau # AT8\n",
    "image_tau = tifffile.imread(Dir)"
   ]
  },
  {
   "cell_type": "code",
   "execution_count": 11,
   "metadata": {},
   "outputs": [
    {
     "data": {
      "text/plain": [
       "(1068, 2560, 2160)"
      ]
     },
     "execution_count": 11,
     "metadata": {},
     "output_type": "execute_result"
    }
   ],
   "source": [
    "# z , y,  x\n",
    "image_nuc.shape"
   ]
  },
  {
   "cell_type": "code",
   "execution_count": 11,
   "metadata": {},
   "outputs": [
    {
     "name": "stdout",
     "output_type": "stream",
     "text": [
      "OK\n",
      "OK\n"
     ]
    }
   ],
   "source": [
    "# 6.5x6.5x8.3um resolution → 8.3x8.3x8.3 um resolution\n",
    "# Note: We are currently using local directory names for data paths (e.g., /export3/Imaging/...).\n",
    "# Please replace these with your own file paths as needed.\n",
    "\n",
    "resize_img = ndimage.zoom(image_nuc, (1.0, 6.5/8.3, 6.5/8.3), order = 0, mode='nearest')\n",
    "\n",
    "dir1 = \"/export3/Imaging/Axial/\"+PathPool[0]\n",
    "\n",
    "tifffile.imsave(\n",
    "    dir1+\"8.3um_isotropic_ID357_SYTOX_Tiled_image_stack_8bit.tiff\",\n",
    "    resize_img.astype(np.uint8)\n",
    ")\n",
    "print(\"OK\")\n",
    "\n",
    "resize_img = ndimage.zoom(image_tau , (1.0, 6.5/8.3, 6.5/8.3), order = 0, mode='nearest')\n",
    "\n",
    "dir1 = \"/export3/Imaging/Axial/\"+PathPool[0]\n",
    "\n",
    "tifffile.imsave(\n",
    "    dir1+\"8.3um_isotropic_ID357_Tau_Tiled_image_stack_8bit_RP+.tiff\",\n",
    "    resize_img.astype(np.uint8)\n",
    ")\n",
    "print(\"OK\""
   ]
  },
  {
   "cell_type": "code",
   "execution_count": 12,
   "metadata": {},
   "outputs": [
    {
     "data": {
      "text/plain": [
       "(1068, 2005, 1692)"
      ]
     },
     "execution_count": 12,
     "metadata": {},
     "output_type": "execute_result"
    }
   ],
   "source": [
    "resize_img.shape"
   ]
  },
  {
   "cell_type": "code",
   "execution_count": 67,
   "metadata": {},
   "outputs": [],
   "source": [
    "# Read your resized images.\n",
    "\n",
    "PathPool=[\"Sahara_project/ID357_6.5_6.5_8.3um_version/\"] \n",
    "dir1 = \"/export3/Imaging/Axial/\"+PathPool[0]\n",
    "\n",
    "src_dir_SYTOXG = \"8.3um_isotropic_ID357_SYTOX_Tiled_image_stack_8bit.tiff\"\n",
    "src_dir_Tau = \"8.3um_isotropic_ID357_Tau_Tiled_image_stack_8bit_RP+.tiff\"\n",
    "\n",
    "Dir = \"/export3/Imaging/Axial/\"+PathPool[0]+\"/\" + src_dir_SYTOXG # SYTOXG\n",
    "image_nuc = tifffile.imread(Dir)\n",
    "\n",
    "Dir = \"/export3/Imaging/Axial/\"+PathPool[0]+\"/\" + src_dir_Tau # AT8\n",
    "image_tau = tifffile.imread(Dir)"
   ]
  },
  {
   "cell_type": "code",
   "execution_count": 69,
   "metadata": {},
   "outputs": [],
   "source": [
    "# check\n",
    "tifffile.imsave(\n",
    "    dir1+\"SYTOX-G_1.tif\",\n",
    "    image_nuc[500].astype(np.uint16)\n",
    ")\n",
    "\n",
    "tifffile.imsave(\n",
    "    dir1+\"Tau_1.tif\",\n",
    "    image_tau[500].astype(np.uint16)\n",
    ")"
   ]
  },
  {
   "cell_type": "code",
   "execution_count": 11,
   "metadata": {},
   "outputs": [
    {
     "name": "stdout",
     "output_type": "stream",
     "text": [
      "Normalize start\n",
      "Dilation finish\n",
      "Erosion finish\n"
     ]
    },
    {
     "name": "stderr",
     "output_type": "stream",
     "text": [
      "/home/mitani/my_env/lib/python3.6/site-packages/ipykernel_launcher.py:71: RuntimeWarning: divide by zero encountered in true_divide\n"
     ]
    },
    {
     "name": "stdout",
     "output_type": "stream",
     "text": [
      "Normalize finish\n",
      "OK\n",
      "OK\n"
     ]
    }
   ],
   "source": [
    "# Normalize pTau images.\n",
    "\n",
    "from scipy.ndimage import gaussian_filter\n",
    "from scipy.ndimage import uniform_filter\n",
    "\n",
    "size_large=(5,5,5)\n",
    "min_intensity=0\n",
    "image_normalized=[]\n",
    "image_normalized= HDoG_CPU.Normalize(image_normalized, image_tau)\n",
    "print(\"OK\")\n",
    "\n",
    "dir1 = \"/export3/Imaging/Axial/\"+PathPool[0]\n",
    "\n",
    "tifffile.imsave(\n",
    "    dir1+\"image_normalized.tif\",\n",
    "    image_normalized.astype(np.float32)\n",
    ")\n",
    "print(\"OK\")"
   ]
  },
  {
   "cell_type": "code",
   "execution_count": 12,
   "metadata": {},
   "outputs": [
    {
     "name": "stdout",
     "output_type": "stream",
     "text": [
      "OK\n"
     ]
    }
   ],
   "source": [
    "# Apply a Gaussian filter.\n",
    "# The kernel size must be optimized based on your image resolutions.\n",
    "# Remarks: To achieve finer segmentation of images processed by Gaussian-mean difference, \n",
    "# it is necessary to optimize the ratio of kernel sizes for both the Gaussian and Mean filters \n",
    "# according to the size of the objects you want to segment.\n",
    "# It is recommended to iteratively adjust the kernel sizes and have them checked by an expert.\n",
    "\n",
    "fsize = 5 \n",
    "image_tau_gaussed = gaussian_filter(image_tau, sigma=fsize/6)\n",
    "print(\"OK\")"
   ]
  },
  {
   "cell_type": "code",
   "execution_count": 13,
   "metadata": {},
   "outputs": [
    {
     "name": "stdout",
     "output_type": "stream",
     "text": [
      "OK\n"
     ]
    }
   ],
   "source": [
    "# Apply a Mean filter.\n",
    "# The kernel size must be optimized based on your image resolutions.\n",
    "# Remarks: To achieve finer segmentation of images processed by Gaussian-mean difference, \n",
    "# it is necessary to optimize the ratio of kernel sizes for both the Gaussian and Mean filters \n",
    "# according to the size of the objects you want to segment.\n",
    "# It is recommended to iteratively adjust the kernel sizes and have them checked by an expert.\n",
    "\n",
    "image_tau_mean = uniform_filter(image_tau, size=fsize*2)\n",
    "print(\"OK\")"
   ]
  },
  {
   "cell_type": "code",
   "execution_count": 14,
   "metadata": {},
   "outputs": [
    {
     "name": "stdout",
     "output_type": "stream",
     "text": [
      "OK\n"
     ]
    }
   ],
   "source": [
    "# check\n",
    "dir1 = \"/export3/Imaging/Axial/\"+PathPool[0]\n",
    "\n",
    "tifffile.imsave(\n",
    "    dir1+\"image_tau_gaussed.tif\",\n",
    "    image_tau_gaussed.astype(np.uint16)\n",
    ")\n",
    "print(\"OK\")"
   ]
  },
  {
   "cell_type": "code",
   "execution_count": 15,
   "metadata": {},
   "outputs": [
    {
     "name": "stdout",
     "output_type": "stream",
     "text": [
      "OK\n"
     ]
    }
   ],
   "source": [
    "# check\n",
    "dir1 = \"/export3/Imaging/Axial/\"+PathPool[0]\n",
    "\n",
    "tifffile.imsave(\n",
    "    dir1+\"image_tau_gaussed1.tif\",\n",
    "    image_tau_gaussed[500].astype(np.uint16)\n",
    ")\n",
    "print(\"OK\")"
   ]
  },
  {
   "cell_type": "code",
   "execution_count": 16,
   "metadata": {},
   "outputs": [
    {
     "name": "stdout",
     "output_type": "stream",
     "text": [
      "OK\n"
     ]
    }
   ],
   "source": [
    "# check\n",
    "tifffile.imsave(\n",
    "    dir1+\"image_tau_mean.tif\",\n",
    "    image_tau_mean.astype(np.uint16)\n",
    ")\n",
    "\n",
    "print(\"OK\")\n"
   ]
  },
  {
   "cell_type": "code",
   "execution_count": 17,
   "metadata": {},
   "outputs": [
    {
     "name": "stdout",
     "output_type": "stream",
     "text": [
      "OK\n"
     ]
    }
   ],
   "source": [
    "# Note: The surface of the brain always exhibits higher values, so create a mask to address this.\n",
    "# Set the threshold at 1.5 times the overall mean.\n",
    "\n",
    "mask_thresh = np.average(image_tau) * 1.5\n",
    "image_tau_brain_mask =  image_tau>mask_thresh\n",
    "print(\"OK\")"
   ]
  },
  {
   "cell_type": "code",
   "execution_count": 18,
   "metadata": {},
   "outputs": [
    {
     "data": {
      "text/plain": [
       "18.143814742468873"
      ]
     },
     "execution_count": 18,
     "metadata": {},
     "output_type": "execute_result"
    }
   ],
   "source": [
    "mask_thresh"
   ]
  },
  {
   "cell_type": "code",
   "execution_count": 19,
   "metadata": {},
   "outputs": [],
   "source": [
    "from skimage.filters import threshold_minimum,threshold_mean,threshold_sauvola"
   ]
  },
  {
   "cell_type": "code",
   "execution_count": 20,
   "metadata": {},
   "outputs": [
    {
     "name": "stdout",
     "output_type": "stream",
     "text": [
      "OK\n"
     ]
    }
   ],
   "source": [
    "image_tau_bg_mask = image_tau<=mask_thresh\n",
    "print(\"OK\")"
   ]
  },
  {
   "cell_type": "code",
   "execution_count": 21,
   "metadata": {},
   "outputs": [
    {
     "name": "stdout",
     "output_type": "stream",
     "text": [
      "OK\n",
      "OK\n"
     ]
    }
   ],
   "source": [
    "# check\n",
    "tifffile.imsave(\n",
    "    dir1+\"image_tau_brain_mask.tif\",\n",
    "    image_tau_brain_mask.astype(np.uint16)\n",
    ")\n",
    "print(\"OK\")\n",
    "\n",
    "tifffile.imsave(\n",
    "    dir1+\"image_tau_bg_mask.tif\",\n",
    "    image_tau_bg_mask.astype(np.uint16)\n",
    ")\n",
    "\n",
    "print(\"OK\")"
   ]
  },
  {
   "cell_type": "code",
   "execution_count": 22,
   "metadata": {},
   "outputs": [],
   "source": [
    "# Read brain mask\n",
    "from scipy import ndimage\n",
    "Dir = \"/export3/Imaging/Axial/\"+PathPool[0]+\"/image_tau_brain_mask.tif\"\n",
    "image_tau_brain_mask = tifffile.imread(Dir)"
   ]
  },
  {
   "cell_type": "code",
   "execution_count": 23,
   "metadata": {},
   "outputs": [
    {
     "name": "stdout",
     "output_type": "stream",
     "text": [
      "OK\n"
     ]
    }
   ],
   "source": [
    "# Do erosion\n",
    "image_tau_brain_mask_erosed = ndimage.binary_erosion(image_tau_brain_mask, iterations=10).astype(image_tau_brain_mask.dtype)\n",
    "print(\"OK\")"
   ]
  },
  {
   "cell_type": "code",
   "execution_count": 24,
   "metadata": {},
   "outputs": [
    {
     "name": "stdout",
     "output_type": "stream",
     "text": [
      "OK\n"
     ]
    }
   ],
   "source": [
    "# check\n",
    "dir1 = \"/export3/Imaging/Axial/\"+PathPool[0]\n",
    "tifffile.imsave(\n",
    "    dir1+\"image_tau_brain_mask_erosed.tif\",\n",
    "    image_tau_brain_mask_erosed.astype(np.uint16)\n",
    ")\n",
    "\n",
    "print(\"OK\")"
   ]
  },
  {
   "cell_type": "code",
   "execution_count": 25,
   "metadata": {},
   "outputs": [
    {
     "name": "stdout",
     "output_type": "stream",
     "text": [
      "OK\n"
     ]
    }
   ],
   "source": [
    "# check\n",
    "dir1 = \"/export3/Imaging/Axial/\"+PathPool[0]\n",
    "tifffile.imsave(\n",
    "    dir1+\"image_tau_brain_mask_erosed1.tif\",\n",
    "    image_tau_brain_mask_erosed[500].astype(np.uint16)\n",
    ")\n",
    "\n",
    "print(\"OK\")"
   ]
  },
  {
   "cell_type": "code",
   "execution_count": 26,
   "metadata": {},
   "outputs": [
    {
     "name": "stdout",
     "output_type": "stream",
     "text": [
      "OK\n"
     ]
    }
   ],
   "source": [
    "# check\n",
    "tifffile.imsave(\n",
    "    dir1+\"image_tau_brain_mask1.tif\",\n",
    "    image_tau_brain_mask[500].astype(np.uint16)\n",
    ")\n",
    "print(\"OK\")"
   ]
  },
  {
   "cell_type": "code",
   "execution_count": 27,
   "metadata": {},
   "outputs": [],
   "source": [
    "# Read\n",
    "Dir = \"/export3/Imaging/Axial/\"+PathPool[0]+\"/image_tau_gaussed.tif\"\n",
    "image_tau_gaussed = tifffile.imread(Dir)\n",
    "Dir = \"/export3/Imaging/Axial/\"+PathPool[0]+\"/image_tau_mean.tif\"\n",
    "image_tau_mean = tifffile.imread(Dir)"
   ]
  },
  {
   "cell_type": "code",
   "execution_count": 28,
   "metadata": {},
   "outputs": [
    {
     "name": "stdout",
     "output_type": "stream",
     "text": [
      "OK\n"
     ]
    }
   ],
   "source": [
    "# Using Gaussian-mean, retain only the positive values.\n",
    "image_tau_diff = np.subtract(image_tau_gaussed.astype(np.float32),image_tau_mean.astype(np.float32))\n",
    "image_tau_diff = np.where(image_tau_diff>0,  image_tau_diff, 0)\n",
    "print(\"OK\")"
   ]
  },
  {
   "cell_type": "code",
   "execution_count": 29,
   "metadata": {},
   "outputs": [
    {
     "name": "stdout",
     "output_type": "stream",
     "text": [
      "OK\n"
     ]
    }
   ],
   "source": [
    "# check\n",
    "tifffile.imsave(\n",
    "    dir1+\"image_tau_diff.tif\",\n",
    "    image_tau_diff.astype(np.uint16)\n",
    ")\n",
    "\n",
    "print(\"OK\")"
   ]
  },
  {
   "cell_type": "code",
   "execution_count": 30,
   "metadata": {},
   "outputs": [
    {
     "name": "stdout",
     "output_type": "stream",
     "text": [
      "OK\n"
     ]
    }
   ],
   "source": [
    "# Read\n",
    "Dir = \"/export3/Imaging/Axial/\"+PathPool[0]+\"/image_tau_diff.tif\"\n",
    "image_tau_diff = tifffile.imread(Dir)\n",
    "\n",
    "tifffile.imsave(\n",
    "    dir1+\"image_tau_diff_erosed.tif\",\n",
    "    image_tau_diff*image_tau_brain_mask_erosed.astype(np.uint16)\n",
    ")\n",
    "print(\"OK\")"
   ]
  },
  {
   "cell_type": "code",
   "execution_count": 31,
   "metadata": {},
   "outputs": [
    {
     "name": "stdout",
     "output_type": "stream",
     "text": [
      "OK\n"
     ]
    }
   ],
   "source": [
    "# check\n",
    "tifffile.imsave(\n",
    "    dir1+\"image_tau_diff_erosed1.tif\",\n",
    "    (image_tau_diff*image_tau_brain_mask_erosed)[500].astype(np.uint16)\n",
    ")\n",
    "print(\"OK\")"
   ]
  },
  {
   "cell_type": "code",
   "execution_count": 32,
   "metadata": {},
   "outputs": [
    {
     "name": "stdout",
     "output_type": "stream",
     "text": [
      "OK\n"
     ]
    }
   ],
   "source": [
    "# check\n",
    "tifffile.imsave(\n",
    "    dir1+\"image_tau_diff1.tif\",\n",
    "    (image_tau_diff)[500].astype(np.uint16)\n",
    ")\n",
    "print(\"OK\")"
   ]
  },
  {
   "cell_type": "code",
   "execution_count": 33,
   "metadata": {},
   "outputs": [],
   "source": [
    "# Read\n",
    "Dir = \"/export3/Imaging/Axial/\"+PathPool[0]+\"/image_tau_diff_erosed.tif\"\n",
    "image_tau_diff_erosed = tifffile.imread(Dir)"
   ]
  },
  {
   "cell_type": "code",
   "execution_count": 34,
   "metadata": {},
   "outputs": [
    {
     "name": "stdout",
     "output_type": "stream",
     "text": [
      "OK\n"
     ]
    }
   ],
   "source": [
    "# check\n",
    "tifffile.imsave(\n",
    "    dir1+\"image_tau_diff_erosed2.tif\",\n",
    "    (image_tau_diff_erosed)[500].astype(np.uint16)\n",
    ")\n",
    "print(\"OK\")"
   ]
  },
  {
   "cell_type": "code",
   "execution_count": 4,
   "metadata": {},
   "outputs": [],
   "source": [
    "# Read\n",
    "Dir = \"/export3/Imaging/Axial/\"+PathPool[0]+\"/image_tau_bg_mask.tif\"\n",
    "image_tau_bg_mask = tifffile.imread(Dir)"
   ]
  },
  {
   "cell_type": "code",
   "execution_count": 36,
   "metadata": {},
   "outputs": [
    {
     "name": "stdout",
     "output_type": "stream",
     "text": [
      "OK\n"
     ]
    }
   ],
   "source": [
    "# check\n",
    "tifffile.imsave(\n",
    "    dir1+\"image_tau_bg_mask2.tif\",\n",
    "    (image_tau_bg_mask)[500].astype(np.uint16)\n",
    ")\n",
    "print(\"OK\")"
   ]
  },
  {
   "cell_type": "code",
   "execution_count": 37,
   "metadata": {},
   "outputs": [],
   "source": [
    "# read src pTau data.\n",
    "Dir = \"/export3/Imaging/Axial/\"+PathPool[0]+src_dir_Tau # AT8\n",
    "image_tau = tifffile.imread(Dir)"
   ]
  },
  {
   "cell_type": "code",
   "execution_count": 38,
   "metadata": {},
   "outputs": [
    {
     "name": "stdout",
     "output_type": "stream",
     "text": [
      "4.645829448598043\n",
      "OK\n"
     ]
    }
   ],
   "source": [
    "# Determine the threshold\n",
    "\n",
    "thresh = np.average(image_tau, weights=image_tau_bg_mask) \n",
    "thresh = thresh * 2\n",
    "print (thresh)\n",
    "image_tau_thresh = image_tau_diff_erosed>thresh\n",
    "#image_tau_thresh = np.where(image_tau_diff>thresh, 1, 0)\n",
    "print(\"OK\")"
   ]
  },
  {
   "cell_type": "code",
   "execution_count": 39,
   "metadata": {},
   "outputs": [
    {
     "name": "stdout",
     "output_type": "stream",
     "text": [
      "OK\n"
     ]
    }
   ],
   "source": [
    "# check\n",
    "tifffile.imsave(\n",
    "    dir1+\"image_tau_thresh.tif\",\n",
    "    image_tau_thresh.astype(np.uint16)\n",
    ")\n",
    "\n",
    "print(\"OK\")"
   ]
  },
  {
   "cell_type": "code",
   "execution_count": 40,
   "metadata": {},
   "outputs": [
    {
     "name": "stdout",
     "output_type": "stream",
     "text": [
      "OK\n"
     ]
    }
   ],
   "source": [
    "# check\n",
    "tifffile.imsave(\n",
    "    dir1+\"image_tau_thresh1.tif\",\n",
    "    image_tau_thresh[500].astype(np.uint16)\n",
    ")\n",
    "\n",
    "print(\"OK\")"
   ]
  },
  {
   "cell_type": "code",
   "execution_count": 41,
   "metadata": {},
   "outputs": [],
   "source": [
    "Dir = \"/export3/Imaging/Axial/\"+PathPool[0]+\"/image_tau_thresh.tif\"\n",
    "image_tau_thresh = tifffile.imread(Dir)"
   ]
  },
  {
   "cell_type": "code",
   "execution_count": 42,
   "metadata": {},
   "outputs": [],
   "source": [
    "# Label each ROI within the pTau depositions.\n",
    "image_tau_CCLed=[]\n",
    "image_tau_CCLed=HDoG_CPU.CCL(image_tau_CCLed, image_tau_thresh)"
   ]
  },
  {
   "cell_type": "code",
   "execution_count": 43,
   "metadata": {},
   "outputs": [
    {
     "name": "stdout",
     "output_type": "stream",
     "text": [
      "OK\n"
     ]
    }
   ],
   "source": [
    "#  check\n",
    "tifffile.imsave(\n",
    "    dir1+\"image_tau_CCLed1.tif\",\n",
    "    image_tau_CCLed[500].astype(np.float32)\n",
    ")\n",
    "\n",
    "print(\"OK\")"
   ]
  },
  {
   "cell_type": "code",
   "execution_count": 44,
   "metadata": {},
   "outputs": [
    {
     "name": "stdout",
     "output_type": "stream",
     "text": [
      "OK\n"
     ]
    }
   ],
   "source": [
    "# check\n",
    "tifffile.imsave(\n",
    "    dir1+\"image_tau_CCLed.tif\",\n",
    "    image_tau_CCLed.astype(np.float32)\n",
    ")\n",
    "\n",
    "print(\"OK\")"
   ]
  },
  {
   "cell_type": "code",
   "execution_count": null,
   "metadata": {},
   "outputs": [],
   "source": [
    "# For each label, calculate the centroid and volume."
   ]
  },
  {
   "cell_type": "code",
   "execution_count": 10,
   "metadata": {},
   "outputs": [],
   "source": [
    "Dir = \"/export3/Imaging/Axial/\"+PathPool[0]+\"/image_tau_CCLed.tif\"\n",
    "image_tau_CCLed = tifffile.imread(Dir)\n",
    "\n",
    "Dir = \"/export3/Imaging/Axial/\"+PathPool[0]+\"/image_tau_diff.tif\"\n",
    "image_tau_diff = tifffile.imread(Dir)"
   ]
  },
  {
   "cell_type": "code",
   "execution_count": 11,
   "metadata": {},
   "outputs": [
    {
     "name": "stdout",
     "output_type": "stream",
     "text": [
      "204087\n"
     ]
    }
   ],
   "source": [
    "norm_img = image_tau_diff\n",
    "labels_img = image_tau_CCLed.astype(np.int64)\n",
    "on_region = np.nonzero(labels_img)\n",
    "labels_list = labels_img[on_region]\n",
    "num_labels = int(np.max(labels_list))\n",
    "print(num_labels)"
   ]
  },
  {
   "cell_type": "code",
   "execution_count": 12,
   "metadata": {},
   "outputs": [
    {
     "data": {
      "text/plain": [
       "(1121, 2560, 1950)"
      ]
     },
     "execution_count": 12,
     "metadata": {},
     "output_type": "execute_result"
    }
   ],
   "source": [
    "norm_img.shape"
   ]
  },
  {
   "cell_type": "code",
   "execution_count": 13,
   "metadata": {},
   "outputs": [
    {
     "data": {
      "text/plain": [
       "(1121, 2560, 1950)"
      ]
     },
     "execution_count": 13,
     "metadata": {},
     "output_type": "execute_result"
    }
   ],
   "source": [
    "labels_img.shape"
   ]
  },
  {
   "cell_type": "code",
   "execution_count": 14,
   "metadata": {},
   "outputs": [
    {
     "data": {
      "text/plain": [
       "array([     1,      1,      1, ..., 204085, 204086, 204086])"
      ]
     },
     "execution_count": 14,
     "metadata": {},
     "output_type": "execute_result"
    }
   ],
   "source": [
    "labels_list"
   ]
  },
  {
   "cell_type": "code",
   "execution_count": 15,
   "metadata": {},
   "outputs": [],
   "source": [
    "# Sum of intensity\n",
    "sum_normalized = scipy.ndimage.sum(norm_img, labels=labels_img, index=range(1, num_labels+1))\n",
    "# region size\n",
    "ns = np.ones(len(labels_list))"
   ]
  },
  {
   "cell_type": "code",
   "execution_count": 16,
   "metadata": {},
   "outputs": [],
   "source": [
    "region_size = np.bincount(labels_list.astype(np.int64)-1, weights=ns)"
   ]
  },
  {
   "cell_type": "code",
   "execution_count": 17,
   "metadata": {},
   "outputs": [],
   "source": [
    "df = pd.DataFrame({\n",
    "    \"index\": pd.Series(np.arange(num_labels)),\n",
    "    \"intensity\": pd.Series(sum_normalized),\n",
    "    \"size\": pd.Series(region_size)\n",
    "})"
   ]
  },
  {
   "cell_type": "code",
   "execution_count": 18,
   "metadata": {},
   "outputs": [
    {
     "data": {
      "text/html": [
       "<div>\n",
       "<style scoped>\n",
       "    .dataframe tbody tr th:only-of-type {\n",
       "        vertical-align: middle;\n",
       "    }\n",
       "\n",
       "    .dataframe tbody tr th {\n",
       "        vertical-align: top;\n",
       "    }\n",
       "\n",
       "    .dataframe thead th {\n",
       "        text-align: right;\n",
       "    }\n",
       "</style>\n",
       "<table border=\"1\" class=\"dataframe\">\n",
       "  <thead>\n",
       "    <tr style=\"text-align: right;\">\n",
       "      <th></th>\n",
       "      <th>index</th>\n",
       "      <th>intensity</th>\n",
       "      <th>size</th>\n",
       "    </tr>\n",
       "  </thead>\n",
       "  <tbody>\n",
       "    <tr>\n",
       "      <th>0</th>\n",
       "      <td>0</td>\n",
       "      <td>9.0</td>\n",
       "      <td>4.0</td>\n",
       "    </tr>\n",
       "    <tr>\n",
       "      <th>1</th>\n",
       "      <td>1</td>\n",
       "      <td>33.0</td>\n",
       "      <td>13.0</td>\n",
       "    </tr>\n",
       "    <tr>\n",
       "      <th>2</th>\n",
       "      <td>2</td>\n",
       "      <td>7.0</td>\n",
       "      <td>3.0</td>\n",
       "    </tr>\n",
       "    <tr>\n",
       "      <th>3</th>\n",
       "      <td>3</td>\n",
       "      <td>29.0</td>\n",
       "      <td>12.0</td>\n",
       "    </tr>\n",
       "    <tr>\n",
       "      <th>4</th>\n",
       "      <td>4</td>\n",
       "      <td>39.0</td>\n",
       "      <td>13.0</td>\n",
       "    </tr>\n",
       "    <tr>\n",
       "      <th>...</th>\n",
       "      <td>...</td>\n",
       "      <td>...</td>\n",
       "      <td>...</td>\n",
       "    </tr>\n",
       "    <tr>\n",
       "      <th>204082</th>\n",
       "      <td>204082</td>\n",
       "      <td>6.0</td>\n",
       "      <td>3.0</td>\n",
       "    </tr>\n",
       "    <tr>\n",
       "      <th>204083</th>\n",
       "      <td>204083</td>\n",
       "      <td>18.0</td>\n",
       "      <td>8.0</td>\n",
       "    </tr>\n",
       "    <tr>\n",
       "      <th>204084</th>\n",
       "      <td>204084</td>\n",
       "      <td>4.0</td>\n",
       "      <td>2.0</td>\n",
       "    </tr>\n",
       "    <tr>\n",
       "      <th>204085</th>\n",
       "      <td>204085</td>\n",
       "      <td>8.0</td>\n",
       "      <td>4.0</td>\n",
       "    </tr>\n",
       "    <tr>\n",
       "      <th>204086</th>\n",
       "      <td>204086</td>\n",
       "      <td>2.0</td>\n",
       "      <td>1.0</td>\n",
       "    </tr>\n",
       "  </tbody>\n",
       "</table>\n",
       "<p>204087 rows × 3 columns</p>\n",
       "</div>"
      ],
      "text/plain": [
       "         index  intensity  size\n",
       "0            0        9.0   4.0\n",
       "1            1       33.0  13.0\n",
       "2            2        7.0   3.0\n",
       "3            3       29.0  12.0\n",
       "4            4       39.0  13.0\n",
       "...        ...        ...   ...\n",
       "204082  204082        6.0   3.0\n",
       "204083  204083       18.0   8.0\n",
       "204084  204084        4.0   2.0\n",
       "204085  204085        8.0   4.0\n",
       "204086  204086        2.0   1.0\n",
       "\n",
       "[204087 rows x 3 columns]"
      ]
     },
     "execution_count": 18,
     "metadata": {},
     "output_type": "execute_result"
    }
   ],
   "source": [
    "df"
   ]
  },
  {
   "cell_type": "code",
   "execution_count": 19,
   "metadata": {},
   "outputs": [],
   "source": [
    "# Save as csv\n",
    "# But it still lacks xyz information.\n",
    "dir1 = \"/export3/Imaging/Axial/\"+PathPool[0]\n",
    "\n",
    "csv_tau = dir1 + \"csv_tau1.csv\"\n",
    "\n",
    "df= df.astype('int')\n",
    "df.to_csv(csv_tau, index=False, header=True, chunksize=50000,\n",
    "            columns=[\"index\",\"intensity\",\"size\"])"
   ]
  },
  {
   "cell_type": "code",
   "execution_count": 10,
   "metadata": {},
   "outputs": [],
   "source": [
    "Dir = \"/export3/Imaging/Axial/\"+PathPool[0]+\"/image_tau_CCLed.tif\"\n",
    "image_tau_CCLed = tifffile.imread(Dir)\n",
    "\n",
    "Dir = \"/export3/Imaging/Axial/\"+PathPool[0]+\"/image_tau_diff.tif\"\n",
    "image_tau_diff = tifffile.imread(Dir)"
   ]
  },
  {
   "cell_type": "code",
   "execution_count": 11,
   "metadata": {},
   "outputs": [
    {
     "name": "stdout",
     "output_type": "stream",
     "text": [
      "274859\n"
     ]
    }
   ],
   "source": [
    "labels_img = image_tau_CCLed.astype(np.int64)    \n",
    "on_region = np.nonzero(labels_img)\n",
    "labels_list = labels_img[on_region]\n",
    "num_labels = int(np.max(labels_list))\n",
    "print(num_labels)"
   ]
  },
  {
   "cell_type": "code",
   "execution_count": 12,
   "metadata": {},
   "outputs": [],
   "source": [
    "depth=image_tau_CCLed.shape[0]\n",
    "width=image_tau_CCLed.shape[1]\n",
    "height=image_tau_CCLed.shape[2]"
   ]
  },
  {
   "cell_type": "code",
   "execution_count": 13,
   "metadata": {},
   "outputs": [
    {
     "data": {
      "text/plain": [
       "1692"
      ]
     },
     "execution_count": 13,
     "metadata": {},
     "output_type": "execute_result"
    }
   ],
   "source": [
    "height"
   ]
  },
  {
   "cell_type": "code",
   "execution_count": 14,
   "metadata": {},
   "outputs": [],
   "source": [
    "zgrid,ygrid,xgrid = np.mgrid[0:depth, 0:width, 0:height]"
   ]
  },
  {
   "cell_type": "code",
   "execution_count": 15,
   "metadata": {},
   "outputs": [],
   "source": [
    "# Save Grids\n",
    "# To conserve memory, data was saved. This is important as pTau data can sometimes be large."
   ]
  },
  {
   "cell_type": "code",
   "execution_count": 15,
   "metadata": {},
   "outputs": [
    {
     "name": "stdout",
     "output_type": "stream",
     "text": [
      "OK\n"
     ]
    }
   ],
   "source": [
    "dir1 = \"/export3/Imaging/Axial/\"+PathPool[0]\n",
    "\n",
    "tifffile.imsave(\n",
    "    dir1+\"zgrid.tif\",\n",
    "    zgrid.astype(np.uint16)\n",
    ")\n",
    "\n",
    "print(\"OK\")"
   ]
  },
  {
   "cell_type": "code",
   "execution_count": 16,
   "metadata": {},
   "outputs": [
    {
     "name": "stdout",
     "output_type": "stream",
     "text": [
      "OK\n"
     ]
    }
   ],
   "source": [
    "dir1 = \"/export3/Imaging/Axial/\"+PathPool[0]\n",
    "\n",
    "tifffile.imsave(\n",
    "    dir1+\"ygrid.tif\",\n",
    "    ygrid.astype(np.uint16)\n",
    ")\n",
    "\n",
    "print(\"OK\")"
   ]
  },
  {
   "cell_type": "code",
   "execution_count": 17,
   "metadata": {},
   "outputs": [
    {
     "name": "stdout",
     "output_type": "stream",
     "text": [
      "OK\n"
     ]
    }
   ],
   "source": [
    "dir1 = \"/export3/Imaging/Axial/\"+PathPool[0]\n",
    "\n",
    "tifffile.imsave(\n",
    "    dir1+\"xgrid.tif\",\n",
    "    xgrid.astype(np.uint16)\n",
    ")\n",
    "\n",
    "print(\"OK\")"
   ]
  },
  {
   "cell_type": "code",
   "execution_count": 12,
   "metadata": {},
   "outputs": [
    {
     "name": "stdout",
     "output_type": "stream",
     "text": [
      "OK\n",
      "OK\n",
      "OK\n"
     ]
    }
   ],
   "source": [
    "Dir = \"/export3/Imaging/Axial/\"+PathPool[0]+\"/zgrid.tif\"\n",
    "zgrid = tifffile.imread(Dir).astype(np.uint16)\n",
    "print(\"OK\")\n",
    "Dir = \"/export3/Imaging/Axial/\"+PathPool[0]+\"/ygrid.tif\"\n",
    "ygrid = tifffile.imread(Dir).astype(np.uint16)\n",
    "print(\"OK\")\n",
    "Dir = \"/export3/Imaging/Axial/\"+PathPool[0]+\"/xgrid.tif\"\n",
    "xgrid = tifffile.imread(Dir).astype(np.uint16)\n",
    "print(\"OK\")"
   ]
  },
  {
   "cell_type": "code",
   "execution_count": 13,
   "metadata": {},
   "outputs": [
    {
     "data": {
      "text/plain": [
       "(1068, 2005, 1692)"
      ]
     },
     "execution_count": 13,
     "metadata": {},
     "output_type": "execute_result"
    }
   ],
   "source": [
    "zgrid.shape"
   ]
  },
  {
   "cell_type": "code",
   "execution_count": 14,
   "metadata": {},
   "outputs": [
    {
     "data": {
      "text/plain": [
       "(1068, 2005, 1692)"
      ]
     },
     "execution_count": 14,
     "metadata": {},
     "output_type": "execute_result"
    }
   ],
   "source": [
    "ygrid.shape"
   ]
  },
  {
   "cell_type": "code",
   "execution_count": 15,
   "metadata": {},
   "outputs": [
    {
     "data": {
      "text/plain": [
       "(1068, 2005, 1692)"
      ]
     },
     "execution_count": 15,
     "metadata": {},
     "output_type": "execute_result"
    }
   ],
   "source": [
    "xgrid.shape"
   ]
  },
  {
   "cell_type": "code",
   "execution_count": 16,
   "metadata": {},
   "outputs": [],
   "source": [
    "Dir = \"/export3/Imaging/Axial/\"+PathPool[0]+\"/image_tau_CCLed.tif\"\n",
    "labels_img = tifffile.imread(Dir).astype(np.int64)"
   ]
  },
  {
   "cell_type": "code",
   "execution_count": 17,
   "metadata": {},
   "outputs": [
    {
     "data": {
      "text/plain": [
       "(1068, 2005, 1692)"
      ]
     },
     "execution_count": 17,
     "metadata": {},
     "output_type": "execute_result"
    }
   ],
   "source": [
    "labels_img.shape"
   ]
  },
  {
   "cell_type": "code",
   "execution_count": 21,
   "metadata": {},
   "outputs": [],
   "source": [
    "dir1 = \"/export3/Imaging/Axial/\"+PathPool[0]\n",
    "data_1 = pd.read_csv(filepath_or_buffer=dir1 + \"csv_tau1.csv\", encoding=\"ms932\", sep=\",\")"
   ]
  },
  {
   "cell_type": "code",
   "execution_count": 22,
   "metadata": {},
   "outputs": [
    {
     "data": {
      "text/html": [
       "<div>\n",
       "<style scoped>\n",
       "    .dataframe tbody tr th:only-of-type {\n",
       "        vertical-align: middle;\n",
       "    }\n",
       "\n",
       "    .dataframe tbody tr th {\n",
       "        vertical-align: top;\n",
       "    }\n",
       "\n",
       "    .dataframe thead th {\n",
       "        text-align: right;\n",
       "    }\n",
       "</style>\n",
       "<table border=\"1\" class=\"dataframe\">\n",
       "  <thead>\n",
       "    <tr style=\"text-align: right;\">\n",
       "      <th></th>\n",
       "      <th>index</th>\n",
       "      <th>intensity</th>\n",
       "      <th>size</th>\n",
       "    </tr>\n",
       "  </thead>\n",
       "  <tbody>\n",
       "    <tr>\n",
       "      <th>0</th>\n",
       "      <td>0</td>\n",
       "      <td>8</td>\n",
       "      <td>1</td>\n",
       "    </tr>\n",
       "    <tr>\n",
       "      <th>1</th>\n",
       "      <td>1</td>\n",
       "      <td>26</td>\n",
       "      <td>4</td>\n",
       "    </tr>\n",
       "    <tr>\n",
       "      <th>2</th>\n",
       "      <td>2</td>\n",
       "      <td>10</td>\n",
       "      <td>2</td>\n",
       "    </tr>\n",
       "    <tr>\n",
       "      <th>3</th>\n",
       "      <td>3</td>\n",
       "      <td>17</td>\n",
       "      <td>3</td>\n",
       "    </tr>\n",
       "    <tr>\n",
       "      <th>4</th>\n",
       "      <td>4</td>\n",
       "      <td>46</td>\n",
       "      <td>8</td>\n",
       "    </tr>\n",
       "    <tr>\n",
       "      <th>...</th>\n",
       "      <td>...</td>\n",
       "      <td>...</td>\n",
       "      <td>...</td>\n",
       "    </tr>\n",
       "    <tr>\n",
       "      <th>119474</th>\n",
       "      <td>119474</td>\n",
       "      <td>594</td>\n",
       "      <td>48</td>\n",
       "    </tr>\n",
       "    <tr>\n",
       "      <th>119475</th>\n",
       "      <td>119475</td>\n",
       "      <td>383</td>\n",
       "      <td>23</td>\n",
       "    </tr>\n",
       "    <tr>\n",
       "      <th>119476</th>\n",
       "      <td>119476</td>\n",
       "      <td>678</td>\n",
       "      <td>65</td>\n",
       "    </tr>\n",
       "    <tr>\n",
       "      <th>119477</th>\n",
       "      <td>119477</td>\n",
       "      <td>1121</td>\n",
       "      <td>70</td>\n",
       "    </tr>\n",
       "    <tr>\n",
       "      <th>119478</th>\n",
       "      <td>119478</td>\n",
       "      <td>209</td>\n",
       "      <td>26</td>\n",
       "    </tr>\n",
       "  </tbody>\n",
       "</table>\n",
       "<p>119479 rows × 3 columns</p>\n",
       "</div>"
      ],
      "text/plain": [
       "         index  intensity  size\n",
       "0            0          8     1\n",
       "1            1         26     4\n",
       "2            2         10     2\n",
       "3            3         17     3\n",
       "4            4         46     8\n",
       "...        ...        ...   ...\n",
       "119474  119474        594    48\n",
       "119475  119475        383    23\n",
       "119476  119476        678    65\n",
       "119477  119477       1121    70\n",
       "119478  119478        209    26\n",
       "\n",
       "[119479 rows x 3 columns]"
      ]
     },
     "execution_count": 22,
     "metadata": {},
     "output_type": "execute_result"
    }
   ],
   "source": [
    "data_1"
   ]
  },
  {
   "cell_type": "code",
   "execution_count": 23,
   "metadata": {},
   "outputs": [
    {
     "ename": "KeyboardInterrupt",
     "evalue": "",
     "output_type": "error",
     "traceback": [
      "\u001b[0;31m---------------------------------------------------------------------------\u001b[0m",
      "\u001b[0;31mKeyboardInterrupt\u001b[0m                         Traceback (most recent call last)",
      "\u001b[0;32m<ipython-input-23-c5ae9933b122>\u001b[0m in \u001b[0;36m<module>\u001b[0;34m\u001b[0m\n\u001b[1;32m      1\u001b[0m \u001b[0mregion_size\u001b[0m\u001b[0;34m=\u001b[0m\u001b[0mnp\u001b[0m\u001b[0;34m.\u001b[0m\u001b[0marray\u001b[0m\u001b[0;34m(\u001b[0m\u001b[0mdata_1\u001b[0m\u001b[0;34m[\u001b[0m\u001b[0;34m\"size\"\u001b[0m\u001b[0;34m]\u001b[0m\u001b[0;34m)\u001b[0m\u001b[0;34m\u001b[0m\u001b[0;34m\u001b[0m\u001b[0m\n\u001b[0;32m----> 2\u001b[0;31m \u001b[0mlabels_img_flatten\u001b[0m\u001b[0;34m=\u001b[0m\u001b[0mlabels_img\u001b[0m\u001b[0;34m.\u001b[0m\u001b[0mflatten\u001b[0m\u001b[0;34m(\u001b[0m\u001b[0;34m)\u001b[0m\u001b[0;34m\u001b[0m\u001b[0;34m\u001b[0m\u001b[0m\n\u001b[0m",
      "\u001b[0;31mKeyboardInterrupt\u001b[0m: "
     ]
    }
   ],
   "source": [
    "region_size=np.array(data_1[\"size\"])\n",
    "labels_img_flatten=labels_img.flatten()"
   ]
  },
  {
   "cell_type": "code",
   "execution_count": 21,
   "metadata": {},
   "outputs": [
    {
     "name": "stdout",
     "output_type": "stream",
     "text": [
      "OK\n",
      "OK\n",
      "OK\n"
     ]
    }
   ],
   "source": [
    "# Calculate centrids of each pTau deposition ROI.\n",
    "centroid_x = np.bincount(labels_img_flatten, weights=xgrid.flatten())[1:] / region_size\n",
    "print(\"OK\")\n",
    "centroid_y = np.bincount(labels_img_flatten, weights=ygrid.flatten())[1:] / region_size\n",
    "print(\"OK\")\n",
    "centroid_z = np.bincount(labels_img_flatten, weights=zgrid.flatten())[1:] / region_size\n",
    "print(\"OK\")"
   ]
  },
  {
   "cell_type": "code",
   "execution_count": 33,
   "metadata": {},
   "outputs": [],
   "source": [
    "index1=np.array(data_1[\"index\"])"
   ]
  },
  {
   "cell_type": "code",
   "execution_count": 34,
   "metadata": {},
   "outputs": [
    {
     "ename": "NameError",
     "evalue": "name 'centroid_x' is not defined",
     "output_type": "error",
     "traceback": [
      "\u001b[0;31m---------------------------------------------------------------------------\u001b[0m",
      "\u001b[0;31mNameError\u001b[0m                                 Traceback (most recent call last)",
      "\u001b[0;32m<ipython-input-34-4166472d027a>\u001b[0m in \u001b[0;36m<module>\u001b[0;34m\u001b[0m\n\u001b[1;32m      1\u001b[0m df = pd.DataFrame({\n\u001b[1;32m      2\u001b[0m     \u001b[0;34m\"index\"\u001b[0m\u001b[0;34m:\u001b[0m  \u001b[0mindex1\u001b[0m\u001b[0;34m,\u001b[0m\u001b[0;34m\u001b[0m\u001b[0;34m\u001b[0m\u001b[0m\n\u001b[0;32m----> 3\u001b[0;31m     \u001b[0;34m\"centroid_x\"\u001b[0m\u001b[0;34m:\u001b[0m \u001b[0mpd\u001b[0m\u001b[0;34m.\u001b[0m\u001b[0mSeries\u001b[0m\u001b[0;34m(\u001b[0m\u001b[0mcentroid_x\u001b[0m\u001b[0;34m)\u001b[0m\u001b[0;34m,\u001b[0m\u001b[0;34m\u001b[0m\u001b[0;34m\u001b[0m\u001b[0m\n\u001b[0m\u001b[1;32m      4\u001b[0m     \u001b[0;34m\"centroid_y\"\u001b[0m\u001b[0;34m:\u001b[0m \u001b[0mpd\u001b[0m\u001b[0;34m.\u001b[0m\u001b[0mSeries\u001b[0m\u001b[0;34m(\u001b[0m\u001b[0mcentroid_y\u001b[0m\u001b[0;34m)\u001b[0m\u001b[0;34m,\u001b[0m\u001b[0;34m\u001b[0m\u001b[0;34m\u001b[0m\u001b[0m\n\u001b[1;32m      5\u001b[0m     \u001b[0;34m\"centroid_z\"\u001b[0m\u001b[0;34m:\u001b[0m \u001b[0mpd\u001b[0m\u001b[0;34m.\u001b[0m\u001b[0mSeries\u001b[0m\u001b[0;34m(\u001b[0m\u001b[0mcentroid_z\u001b[0m\u001b[0;34m)\u001b[0m\u001b[0;34m,\u001b[0m\u001b[0;34m\u001b[0m\u001b[0;34m\u001b[0m\u001b[0m\n",
      "\u001b[0;31mNameError\u001b[0m: name 'centroid_x' is not defined"
     ]
    }
   ],
   "source": [
    "df = pd.DataFrame({\n",
    "    \"index\":  index1,\n",
    "    \"centroid_x\": pd.Series(centroid_x),\n",
    "    \"centroid_y\": pd.Series(centroid_y),\n",
    "    \"centroid_z\": pd.Series(centroid_z),\n",
    "})"
   ]
  },
  {
   "cell_type": "code",
   "execution_count": 24,
   "metadata": {},
   "outputs": [
    {
     "data": {
      "text/html": [
       "<div>\n",
       "<style scoped>\n",
       "    .dataframe tbody tr th:only-of-type {\n",
       "        vertical-align: middle;\n",
       "    }\n",
       "\n",
       "    .dataframe tbody tr th {\n",
       "        vertical-align: top;\n",
       "    }\n",
       "\n",
       "    .dataframe thead th {\n",
       "        text-align: right;\n",
       "    }\n",
       "</style>\n",
       "<table border=\"1\" class=\"dataframe\">\n",
       "  <thead>\n",
       "    <tr style=\"text-align: right;\">\n",
       "      <th></th>\n",
       "      <th>index</th>\n",
       "      <th>centroid_x</th>\n",
       "      <th>centroid_y</th>\n",
       "      <th>centroid_z</th>\n",
       "    </tr>\n",
       "  </thead>\n",
       "  <tbody>\n",
       "    <tr>\n",
       "      <th>0</th>\n",
       "      <td>0</td>\n",
       "      <td>1074.400000</td>\n",
       "      <td>1143.400000</td>\n",
       "      <td>30.400000</td>\n",
       "    </tr>\n",
       "    <tr>\n",
       "      <th>1</th>\n",
       "      <td>1</td>\n",
       "      <td>1108.250000</td>\n",
       "      <td>1198.750000</td>\n",
       "      <td>32.500000</td>\n",
       "    </tr>\n",
       "    <tr>\n",
       "      <th>2</th>\n",
       "      <td>2</td>\n",
       "      <td>1023.052632</td>\n",
       "      <td>1282.789474</td>\n",
       "      <td>33.105263</td>\n",
       "    </tr>\n",
       "    <tr>\n",
       "      <th>3</th>\n",
       "      <td>3</td>\n",
       "      <td>1050.000000</td>\n",
       "      <td>1268.000000</td>\n",
       "      <td>33.000000</td>\n",
       "    </tr>\n",
       "    <tr>\n",
       "      <th>4</th>\n",
       "      <td>4</td>\n",
       "      <td>1029.753968</td>\n",
       "      <td>1253.888889</td>\n",
       "      <td>36.420635</td>\n",
       "    </tr>\n",
       "    <tr>\n",
       "      <th>...</th>\n",
       "      <td>...</td>\n",
       "      <td>...</td>\n",
       "      <td>...</td>\n",
       "      <td>...</td>\n",
       "    </tr>\n",
       "    <tr>\n",
       "      <th>274854</th>\n",
       "      <td>274854</td>\n",
       "      <td>683.714286</td>\n",
       "      <td>766.285714</td>\n",
       "      <td>1056.285714</td>\n",
       "    </tr>\n",
       "    <tr>\n",
       "      <th>274855</th>\n",
       "      <td>274855</td>\n",
       "      <td>673.000000</td>\n",
       "      <td>721.666667</td>\n",
       "      <td>1057.000000</td>\n",
       "    </tr>\n",
       "    <tr>\n",
       "      <th>274856</th>\n",
       "      <td>274856</td>\n",
       "      <td>676.000000</td>\n",
       "      <td>752.000000</td>\n",
       "      <td>1057.000000</td>\n",
       "    </tr>\n",
       "    <tr>\n",
       "      <th>274857</th>\n",
       "      <td>274857</td>\n",
       "      <td>681.000000</td>\n",
       "      <td>760.000000</td>\n",
       "      <td>1057.000000</td>\n",
       "    </tr>\n",
       "    <tr>\n",
       "      <th>274858</th>\n",
       "      <td>274858</td>\n",
       "      <td>691.000000</td>\n",
       "      <td>793.000000</td>\n",
       "      <td>1057.000000</td>\n",
       "    </tr>\n",
       "  </tbody>\n",
       "</table>\n",
       "<p>274859 rows × 4 columns</p>\n",
       "</div>"
      ],
      "text/plain": [
       "         index   centroid_x   centroid_y   centroid_z\n",
       "0            0  1074.400000  1143.400000    30.400000\n",
       "1            1  1108.250000  1198.750000    32.500000\n",
       "2            2  1023.052632  1282.789474    33.105263\n",
       "3            3  1050.000000  1268.000000    33.000000\n",
       "4            4  1029.753968  1253.888889    36.420635\n",
       "...        ...          ...          ...          ...\n",
       "274854  274854   683.714286   766.285714  1056.285714\n",
       "274855  274855   673.000000   721.666667  1057.000000\n",
       "274856  274856   676.000000   752.000000  1057.000000\n",
       "274857  274857   681.000000   760.000000  1057.000000\n",
       "274858  274858   691.000000   793.000000  1057.000000\n",
       "\n",
       "[274859 rows x 4 columns]"
      ]
     },
     "execution_count": 24,
     "metadata": {},
     "output_type": "execute_result"
    }
   ],
   "source": [
    "df"
   ]
  },
  {
   "cell_type": "code",
   "execution_count": 25,
   "metadata": {},
   "outputs": [
    {
     "ename": "KeyError",
     "evalue": "\"Passing list-likes to .loc or [] with any missing labels is no longer supported. The following labels were missing: Index(['centroid_x', 'centroid_y', 'centroid_z'], dtype='object'). See https://pandas.pydata.org/pandas-docs/stable/user_guide/indexing.html#deprecate-loc-reindex-listlike\"",
     "output_type": "error",
     "traceback": [
      "\u001b[0;31m---------------------------------------------------------------------------\u001b[0m",
      "\u001b[0;31mKeyError\u001b[0m                                  Traceback (most recent call last)",
      "\u001b[0;32m<ipython-input-25-0d8c36bab2cd>\u001b[0m in \u001b[0;36m<module>\u001b[0;34m\u001b[0m\n\u001b[1;32m      5\u001b[0m \u001b[0mdf\u001b[0m\u001b[0;34m=\u001b[0m \u001b[0mdf\u001b[0m\u001b[0;34m.\u001b[0m\u001b[0mastype\u001b[0m\u001b[0;34m(\u001b[0m\u001b[0;34m'int'\u001b[0m\u001b[0;34m)\u001b[0m\u001b[0;34m\u001b[0m\u001b[0;34m\u001b[0m\u001b[0m\n\u001b[1;32m      6\u001b[0m df.to_csv(csv_tau, index=False, header=True, chunksize=50000,\n\u001b[0;32m----> 7\u001b[0;31m             columns=[\"index\",\"centroid_x\",\"centroid_y\",\"centroid_z\"])\n\u001b[0m",
      "\u001b[0;32m~/my_env/lib/python3.6/site-packages/pandas/core/generic.py\u001b[0m in \u001b[0;36mto_csv\u001b[0;34m(self, path_or_buf, sep, na_rep, float_format, columns, header, index, index_label, mode, encoding, compression, quoting, quotechar, line_terminator, chunksize, date_format, doublequote, escapechar, decimal, errors)\u001b[0m\n\u001b[1;32m   3166\u001b[0m             \u001b[0mdoublequote\u001b[0m\u001b[0;34m=\u001b[0m\u001b[0mdoublequote\u001b[0m\u001b[0;34m,\u001b[0m\u001b[0;34m\u001b[0m\u001b[0;34m\u001b[0m\u001b[0m\n\u001b[1;32m   3167\u001b[0m             \u001b[0mescapechar\u001b[0m\u001b[0;34m=\u001b[0m\u001b[0mescapechar\u001b[0m\u001b[0;34m,\u001b[0m\u001b[0;34m\u001b[0m\u001b[0;34m\u001b[0m\u001b[0m\n\u001b[0;32m-> 3168\u001b[0;31m             \u001b[0mdecimal\u001b[0m\u001b[0;34m=\u001b[0m\u001b[0mdecimal\u001b[0m\u001b[0;34m,\u001b[0m\u001b[0;34m\u001b[0m\u001b[0;34m\u001b[0m\u001b[0m\n\u001b[0m\u001b[1;32m   3169\u001b[0m         )\n\u001b[1;32m   3170\u001b[0m         \u001b[0mformatter\u001b[0m\u001b[0;34m.\u001b[0m\u001b[0msave\u001b[0m\u001b[0;34m(\u001b[0m\u001b[0;34m)\u001b[0m\u001b[0;34m\u001b[0m\u001b[0;34m\u001b[0m\u001b[0m\n",
      "\u001b[0;32m~/my_env/lib/python3.6/site-packages/pandas/io/formats/csvs.py\u001b[0m in \u001b[0;36m__init__\u001b[0;34m(self, obj, path_or_buf, sep, na_rep, float_format, cols, header, index, index_label, mode, encoding, errors, compression, quoting, line_terminator, chunksize, quotechar, date_format, doublequote, escapechar, decimal)\u001b[0m\n\u001b[1;32m    115\u001b[0m             \u001b[0;32melse\u001b[0m\u001b[0;34m:\u001b[0m\u001b[0;34m\u001b[0m\u001b[0;34m\u001b[0m\u001b[0m\n\u001b[1;32m    116\u001b[0m                 \u001b[0mcols\u001b[0m \u001b[0;34m=\u001b[0m \u001b[0mlist\u001b[0m\u001b[0;34m(\u001b[0m\u001b[0mcols\u001b[0m\u001b[0;34m)\u001b[0m\u001b[0;34m\u001b[0m\u001b[0;34m\u001b[0m\u001b[0m\n\u001b[0;32m--> 117\u001b[0;31m             \u001b[0mself\u001b[0m\u001b[0;34m.\u001b[0m\u001b[0mobj\u001b[0m \u001b[0;34m=\u001b[0m \u001b[0mself\u001b[0m\u001b[0;34m.\u001b[0m\u001b[0mobj\u001b[0m\u001b[0;34m.\u001b[0m\u001b[0mloc\u001b[0m\u001b[0;34m[\u001b[0m\u001b[0;34m:\u001b[0m\u001b[0;34m,\u001b[0m \u001b[0mcols\u001b[0m\u001b[0;34m]\u001b[0m\u001b[0;34m\u001b[0m\u001b[0;34m\u001b[0m\u001b[0m\n\u001b[0m\u001b[1;32m    118\u001b[0m \u001b[0;34m\u001b[0m\u001b[0m\n\u001b[1;32m    119\u001b[0m         \u001b[0;31m# update columns to include possible multiplicity of dupes\u001b[0m\u001b[0;34m\u001b[0m\u001b[0;34m\u001b[0m\u001b[0;34m\u001b[0m\u001b[0m\n",
      "\u001b[0;32m~/my_env/lib/python3.6/site-packages/pandas/core/indexing.py\u001b[0m in \u001b[0;36m__getitem__\u001b[0;34m(self, key)\u001b[0m\n\u001b[1;32m    871\u001b[0m                     \u001b[0;31m# AttributeError for IntervalTree get_value\u001b[0m\u001b[0;34m\u001b[0m\u001b[0;34m\u001b[0m\u001b[0;34m\u001b[0m\u001b[0m\n\u001b[1;32m    872\u001b[0m                     \u001b[0;32mpass\u001b[0m\u001b[0;34m\u001b[0m\u001b[0;34m\u001b[0m\u001b[0m\n\u001b[0;32m--> 873\u001b[0;31m             \u001b[0;32mreturn\u001b[0m \u001b[0mself\u001b[0m\u001b[0;34m.\u001b[0m\u001b[0m_getitem_tuple\u001b[0m\u001b[0;34m(\u001b[0m\u001b[0mkey\u001b[0m\u001b[0;34m)\u001b[0m\u001b[0;34m\u001b[0m\u001b[0;34m\u001b[0m\u001b[0m\n\u001b[0m\u001b[1;32m    874\u001b[0m         \u001b[0;32melse\u001b[0m\u001b[0;34m:\u001b[0m\u001b[0;34m\u001b[0m\u001b[0;34m\u001b[0m\u001b[0m\n\u001b[1;32m    875\u001b[0m             \u001b[0;31m# we by definition only have the 0th axis\u001b[0m\u001b[0;34m\u001b[0m\u001b[0;34m\u001b[0m\u001b[0;34m\u001b[0m\u001b[0m\n",
      "\u001b[0;32m~/my_env/lib/python3.6/site-packages/pandas/core/indexing.py\u001b[0m in \u001b[0;36m_getitem_tuple\u001b[0;34m(self, tup)\u001b[0m\n\u001b[1;32m   1053\u001b[0m             \u001b[0;32mreturn\u001b[0m \u001b[0mself\u001b[0m\u001b[0;34m.\u001b[0m\u001b[0m_multi_take\u001b[0m\u001b[0;34m(\u001b[0m\u001b[0mtup\u001b[0m\u001b[0;34m)\u001b[0m\u001b[0;34m\u001b[0m\u001b[0;34m\u001b[0m\u001b[0m\n\u001b[1;32m   1054\u001b[0m \u001b[0;34m\u001b[0m\u001b[0m\n\u001b[0;32m-> 1055\u001b[0;31m         \u001b[0;32mreturn\u001b[0m \u001b[0mself\u001b[0m\u001b[0;34m.\u001b[0m\u001b[0m_getitem_tuple_same_dim\u001b[0m\u001b[0;34m(\u001b[0m\u001b[0mtup\u001b[0m\u001b[0;34m)\u001b[0m\u001b[0;34m\u001b[0m\u001b[0;34m\u001b[0m\u001b[0m\n\u001b[0m\u001b[1;32m   1056\u001b[0m \u001b[0;34m\u001b[0m\u001b[0m\n\u001b[1;32m   1057\u001b[0m     \u001b[0;32mdef\u001b[0m \u001b[0m_get_label\u001b[0m\u001b[0;34m(\u001b[0m\u001b[0mself\u001b[0m\u001b[0;34m,\u001b[0m \u001b[0mlabel\u001b[0m\u001b[0;34m,\u001b[0m \u001b[0maxis\u001b[0m\u001b[0;34m:\u001b[0m \u001b[0mint\u001b[0m\u001b[0;34m)\u001b[0m\u001b[0;34m:\u001b[0m\u001b[0;34m\u001b[0m\u001b[0;34m\u001b[0m\u001b[0m\n",
      "\u001b[0;32m~/my_env/lib/python3.6/site-packages/pandas/core/indexing.py\u001b[0m in \u001b[0;36m_getitem_tuple_same_dim\u001b[0;34m(self, tup)\u001b[0m\n\u001b[1;32m    748\u001b[0m                 \u001b[0;32mcontinue\u001b[0m\u001b[0;34m\u001b[0m\u001b[0;34m\u001b[0m\u001b[0m\n\u001b[1;32m    749\u001b[0m \u001b[0;34m\u001b[0m\u001b[0m\n\u001b[0;32m--> 750\u001b[0;31m             \u001b[0mretval\u001b[0m \u001b[0;34m=\u001b[0m \u001b[0mgetattr\u001b[0m\u001b[0;34m(\u001b[0m\u001b[0mretval\u001b[0m\u001b[0;34m,\u001b[0m \u001b[0mself\u001b[0m\u001b[0;34m.\u001b[0m\u001b[0mname\u001b[0m\u001b[0;34m)\u001b[0m\u001b[0;34m.\u001b[0m\u001b[0m_getitem_axis\u001b[0m\u001b[0;34m(\u001b[0m\u001b[0mkey\u001b[0m\u001b[0;34m,\u001b[0m \u001b[0maxis\u001b[0m\u001b[0;34m=\u001b[0m\u001b[0mi\u001b[0m\u001b[0;34m)\u001b[0m\u001b[0;34m\u001b[0m\u001b[0;34m\u001b[0m\u001b[0m\n\u001b[0m\u001b[1;32m    751\u001b[0m             \u001b[0;31m# We should never have retval.ndim < self.ndim, as that should\u001b[0m\u001b[0;34m\u001b[0m\u001b[0;34m\u001b[0m\u001b[0;34m\u001b[0m\u001b[0m\n\u001b[1;32m    752\u001b[0m             \u001b[0;31m#  be handled by the _getitem_lowerdim call above.\u001b[0m\u001b[0;34m\u001b[0m\u001b[0;34m\u001b[0m\u001b[0;34m\u001b[0m\u001b[0m\n",
      "\u001b[0;32m~/my_env/lib/python3.6/site-packages/pandas/core/indexing.py\u001b[0m in \u001b[0;36m_getitem_axis\u001b[0;34m(self, key, axis)\u001b[0m\n\u001b[1;32m   1097\u001b[0m                     \u001b[0;32mraise\u001b[0m \u001b[0mValueError\u001b[0m\u001b[0;34m(\u001b[0m\u001b[0;34m\"Cannot index with multidimensional key\"\u001b[0m\u001b[0;34m)\u001b[0m\u001b[0;34m\u001b[0m\u001b[0;34m\u001b[0m\u001b[0m\n\u001b[1;32m   1098\u001b[0m \u001b[0;34m\u001b[0m\u001b[0m\n\u001b[0;32m-> 1099\u001b[0;31m                 \u001b[0;32mreturn\u001b[0m \u001b[0mself\u001b[0m\u001b[0;34m.\u001b[0m\u001b[0m_getitem_iterable\u001b[0m\u001b[0;34m(\u001b[0m\u001b[0mkey\u001b[0m\u001b[0;34m,\u001b[0m \u001b[0maxis\u001b[0m\u001b[0;34m=\u001b[0m\u001b[0maxis\u001b[0m\u001b[0;34m)\u001b[0m\u001b[0;34m\u001b[0m\u001b[0;34m\u001b[0m\u001b[0m\n\u001b[0m\u001b[1;32m   1100\u001b[0m \u001b[0;34m\u001b[0m\u001b[0m\n\u001b[1;32m   1101\u001b[0m             \u001b[0;31m# nested tuple slicing\u001b[0m\u001b[0;34m\u001b[0m\u001b[0;34m\u001b[0m\u001b[0;34m\u001b[0m\u001b[0m\n",
      "\u001b[0;32m~/my_env/lib/python3.6/site-packages/pandas/core/indexing.py\u001b[0m in \u001b[0;36m_getitem_iterable\u001b[0;34m(self, key, axis)\u001b[0m\n\u001b[1;32m   1035\u001b[0m \u001b[0;34m\u001b[0m\u001b[0m\n\u001b[1;32m   1036\u001b[0m         \u001b[0;31m# A collection of keys\u001b[0m\u001b[0;34m\u001b[0m\u001b[0;34m\u001b[0m\u001b[0;34m\u001b[0m\u001b[0m\n\u001b[0;32m-> 1037\u001b[0;31m         \u001b[0mkeyarr\u001b[0m\u001b[0;34m,\u001b[0m \u001b[0mindexer\u001b[0m \u001b[0;34m=\u001b[0m \u001b[0mself\u001b[0m\u001b[0;34m.\u001b[0m\u001b[0m_get_listlike_indexer\u001b[0m\u001b[0;34m(\u001b[0m\u001b[0mkey\u001b[0m\u001b[0;34m,\u001b[0m \u001b[0maxis\u001b[0m\u001b[0;34m,\u001b[0m \u001b[0mraise_missing\u001b[0m\u001b[0;34m=\u001b[0m\u001b[0;32mFalse\u001b[0m\u001b[0;34m)\u001b[0m\u001b[0;34m\u001b[0m\u001b[0;34m\u001b[0m\u001b[0m\n\u001b[0m\u001b[1;32m   1038\u001b[0m         return self.obj._reindex_with_indexers(\n\u001b[1;32m   1039\u001b[0m             \u001b[0;34m{\u001b[0m\u001b[0maxis\u001b[0m\u001b[0;34m:\u001b[0m \u001b[0;34m[\u001b[0m\u001b[0mkeyarr\u001b[0m\u001b[0;34m,\u001b[0m \u001b[0mindexer\u001b[0m\u001b[0;34m]\u001b[0m\u001b[0;34m}\u001b[0m\u001b[0;34m,\u001b[0m \u001b[0mcopy\u001b[0m\u001b[0;34m=\u001b[0m\u001b[0;32mTrue\u001b[0m\u001b[0;34m,\u001b[0m \u001b[0mallow_dups\u001b[0m\u001b[0;34m=\u001b[0m\u001b[0;32mTrue\u001b[0m\u001b[0;34m\u001b[0m\u001b[0;34m\u001b[0m\u001b[0m\n",
      "\u001b[0;32m~/my_env/lib/python3.6/site-packages/pandas/core/indexing.py\u001b[0m in \u001b[0;36m_get_listlike_indexer\u001b[0;34m(self, key, axis, raise_missing)\u001b[0m\n\u001b[1;32m   1252\u001b[0m             \u001b[0mkeyarr\u001b[0m\u001b[0;34m,\u001b[0m \u001b[0mindexer\u001b[0m\u001b[0;34m,\u001b[0m \u001b[0mnew_indexer\u001b[0m \u001b[0;34m=\u001b[0m \u001b[0max\u001b[0m\u001b[0;34m.\u001b[0m\u001b[0m_reindex_non_unique\u001b[0m\u001b[0;34m(\u001b[0m\u001b[0mkeyarr\u001b[0m\u001b[0;34m)\u001b[0m\u001b[0;34m\u001b[0m\u001b[0;34m\u001b[0m\u001b[0m\n\u001b[1;32m   1253\u001b[0m \u001b[0;34m\u001b[0m\u001b[0m\n\u001b[0;32m-> 1254\u001b[0;31m         \u001b[0mself\u001b[0m\u001b[0;34m.\u001b[0m\u001b[0m_validate_read_indexer\u001b[0m\u001b[0;34m(\u001b[0m\u001b[0mkeyarr\u001b[0m\u001b[0;34m,\u001b[0m \u001b[0mindexer\u001b[0m\u001b[0;34m,\u001b[0m \u001b[0maxis\u001b[0m\u001b[0;34m,\u001b[0m \u001b[0mraise_missing\u001b[0m\u001b[0;34m=\u001b[0m\u001b[0mraise_missing\u001b[0m\u001b[0;34m)\u001b[0m\u001b[0;34m\u001b[0m\u001b[0;34m\u001b[0m\u001b[0m\n\u001b[0m\u001b[1;32m   1255\u001b[0m         \u001b[0;32mreturn\u001b[0m \u001b[0mkeyarr\u001b[0m\u001b[0;34m,\u001b[0m \u001b[0mindexer\u001b[0m\u001b[0;34m\u001b[0m\u001b[0;34m\u001b[0m\u001b[0m\n\u001b[1;32m   1256\u001b[0m \u001b[0;34m\u001b[0m\u001b[0m\n",
      "\u001b[0;32m~/my_env/lib/python3.6/site-packages/pandas/core/indexing.py\u001b[0m in \u001b[0;36m_validate_read_indexer\u001b[0;34m(self, key, indexer, axis, raise_missing)\u001b[0m\n\u001b[1;32m   1314\u001b[0m                 \u001b[0;32mwith\u001b[0m \u001b[0moption_context\u001b[0m\u001b[0;34m(\u001b[0m\u001b[0;34m\"display.max_seq_items\"\u001b[0m\u001b[0;34m,\u001b[0m \u001b[0;36m10\u001b[0m\u001b[0;34m,\u001b[0m \u001b[0;34m\"display.width\"\u001b[0m\u001b[0;34m,\u001b[0m \u001b[0;36m80\u001b[0m\u001b[0;34m)\u001b[0m\u001b[0;34m:\u001b[0m\u001b[0;34m\u001b[0m\u001b[0;34m\u001b[0m\u001b[0m\n\u001b[1;32m   1315\u001b[0m                     raise KeyError(\n\u001b[0;32m-> 1316\u001b[0;31m                         \u001b[0;34m\"Passing list-likes to .loc or [] with any missing labels \"\u001b[0m\u001b[0;34m\u001b[0m\u001b[0;34m\u001b[0m\u001b[0m\n\u001b[0m\u001b[1;32m   1317\u001b[0m                         \u001b[0;34m\"is no longer supported. \"\u001b[0m\u001b[0;34m\u001b[0m\u001b[0;34m\u001b[0m\u001b[0m\n\u001b[1;32m   1318\u001b[0m                         \u001b[0;34mf\"The following labels were missing: {not_found}. \"\u001b[0m\u001b[0;34m\u001b[0m\u001b[0;34m\u001b[0m\u001b[0m\n",
      "\u001b[0;31mKeyError\u001b[0m: \"Passing list-likes to .loc or [] with any missing labels is no longer supported. The following labels were missing: Index(['centroid_x', 'centroid_y', 'centroid_z'], dtype='object'). See https://pandas.pydata.org/pandas-docs/stable/user_guide/indexing.html#deprecate-loc-reindex-listlike\""
     ]
    }
   ],
   "source": [
    "# save as csv\n",
    "dir1 = \"/export3/Imaging/Axial/\"+PathPool[0]\n",
    "\n",
    "csv_tau = dir1 + \"csv_tau2.csv\"\n",
    "\n",
    "df= df.astype('int')\n",
    "df.to_csv(csv_tau, index=False, header=True, chunksize=50000,\n",
    "            columns=[\"index\",\"centroid_x\",\"centroid_y\",\"centroid_z\"])"
   ]
  },
  {
   "cell_type": "code",
   "execution_count": 20,
   "metadata": {},
   "outputs": [],
   "source": [
    "data_1 = pd.read_csv(filepath_or_buffer=dir1 + \"csv_tau1.csv\", encoding=\"ms932\", sep=\",\")\n",
    "data_2 = pd.read_csv(filepath_or_buffer=dir1 + \"csv_tau2.csv\", encoding=\"ms932\", sep=\",\")"
   ]
  },
  {
   "cell_type": "code",
   "execution_count": 21,
   "metadata": {},
   "outputs": [
    {
     "data": {
      "text/html": [
       "<div>\n",
       "<style scoped>\n",
       "    .dataframe tbody tr th:only-of-type {\n",
       "        vertical-align: middle;\n",
       "    }\n",
       "\n",
       "    .dataframe tbody tr th {\n",
       "        vertical-align: top;\n",
       "    }\n",
       "\n",
       "    .dataframe thead th {\n",
       "        text-align: right;\n",
       "    }\n",
       "</style>\n",
       "<table border=\"1\" class=\"dataframe\">\n",
       "  <thead>\n",
       "    <tr style=\"text-align: right;\">\n",
       "      <th></th>\n",
       "      <th>index</th>\n",
       "      <th>centroid_x</th>\n",
       "      <th>centroid_y</th>\n",
       "      <th>centroid_z</th>\n",
       "    </tr>\n",
       "  </thead>\n",
       "  <tbody>\n",
       "    <tr>\n",
       "      <th>0</th>\n",
       "      <td>0</td>\n",
       "      <td>1125</td>\n",
       "      <td>1370</td>\n",
       "      <td>30</td>\n",
       "    </tr>\n",
       "    <tr>\n",
       "      <th>1</th>\n",
       "      <td>1</td>\n",
       "      <td>1088</td>\n",
       "      <td>1396</td>\n",
       "      <td>31</td>\n",
       "    </tr>\n",
       "    <tr>\n",
       "      <th>2</th>\n",
       "      <td>2</td>\n",
       "      <td>1100</td>\n",
       "      <td>1402</td>\n",
       "      <td>31</td>\n",
       "    </tr>\n",
       "    <tr>\n",
       "      <th>3</th>\n",
       "      <td>3</td>\n",
       "      <td>1216</td>\n",
       "      <td>1425</td>\n",
       "      <td>33</td>\n",
       "    </tr>\n",
       "    <tr>\n",
       "      <th>4</th>\n",
       "      <td>4</td>\n",
       "      <td>1126</td>\n",
       "      <td>1331</td>\n",
       "      <td>33</td>\n",
       "    </tr>\n",
       "    <tr>\n",
       "      <th>...</th>\n",
       "      <td>...</td>\n",
       "      <td>...</td>\n",
       "      <td>...</td>\n",
       "      <td>...</td>\n",
       "    </tr>\n",
       "    <tr>\n",
       "      <th>204082</th>\n",
       "      <td>204082</td>\n",
       "      <td>728</td>\n",
       "      <td>1083</td>\n",
       "      <td>1096</td>\n",
       "    </tr>\n",
       "    <tr>\n",
       "      <th>204083</th>\n",
       "      <td>204083</td>\n",
       "      <td>734</td>\n",
       "      <td>1043</td>\n",
       "      <td>1098</td>\n",
       "    </tr>\n",
       "    <tr>\n",
       "      <th>204084</th>\n",
       "      <td>204084</td>\n",
       "      <td>703</td>\n",
       "      <td>1068</td>\n",
       "      <td>1098</td>\n",
       "    </tr>\n",
       "    <tr>\n",
       "      <th>204085</th>\n",
       "      <td>204085</td>\n",
       "      <td>725</td>\n",
       "      <td>1037</td>\n",
       "      <td>1099</td>\n",
       "    </tr>\n",
       "    <tr>\n",
       "      <th>204086</th>\n",
       "      <td>204086</td>\n",
       "      <td>718</td>\n",
       "      <td>1045</td>\n",
       "      <td>1099</td>\n",
       "    </tr>\n",
       "  </tbody>\n",
       "</table>\n",
       "<p>204087 rows × 4 columns</p>\n",
       "</div>"
      ],
      "text/plain": [
       "         index  centroid_x  centroid_y  centroid_z\n",
       "0            0        1125        1370          30\n",
       "1            1        1088        1396          31\n",
       "2            2        1100        1402          31\n",
       "3            3        1216        1425          33\n",
       "4            4        1126        1331          33\n",
       "...        ...         ...         ...         ...\n",
       "204082  204082         728        1083        1096\n",
       "204083  204083         734        1043        1098\n",
       "204084  204084         703        1068        1098\n",
       "204085  204085         725        1037        1099\n",
       "204086  204086         718        1045        1099\n",
       "\n",
       "[204087 rows x 4 columns]"
      ]
     },
     "execution_count": 21,
     "metadata": {},
     "output_type": "execute_result"
    }
   ],
   "source": [
    "data_2"
   ]
  },
  {
   "cell_type": "code",
   "execution_count": 22,
   "metadata": {},
   "outputs": [],
   "source": [
    "blunk_array_0 =np.full(len(data_2[\"centroid_x\"]), 0.0)"
   ]
  },
  {
   "cell_type": "code",
   "execution_count": 23,
   "metadata": {},
   "outputs": [],
   "source": [
    "# Save in a CSV format compatible with CUBIC-Cloud.\n",
    "# Fill in any unnecessary data with dummy data.\n",
    "\n",
    "df12 = []\n",
    "df12 = pd.DataFrame({\n",
    "    \"X\":pd.Series(data_2[\"centroid_x\"], dtype=np.int64),\n",
    "    \"Y\":pd.Series(data_2[\"centroid_y\"], dtype=np.int64),\n",
    "    \"Z\":pd.Series(data_2[\"centroid_z\"], dtype=np.int64),\n",
    "    \"deltaI\":pd.Series(data_1[\"intensity\"], dtype=np.int64),\n",
    "    \"BG\":pd.Series(blunk_array_0, dtype=np.int64),\n",
    "    \"vol\":pd.Series(data_1[\"size\"], dtype=np.int64),\n",
    "    \"deltaI_total\":pd.Series(data_1[\"intensity\"], dtype=np.int64)\n",
    "        })"
   ]
  },
  {
   "cell_type": "code",
   "execution_count": 24,
   "metadata": {},
   "outputs": [
    {
     "data": {
      "text/html": [
       "<div>\n",
       "<style scoped>\n",
       "    .dataframe tbody tr th:only-of-type {\n",
       "        vertical-align: middle;\n",
       "    }\n",
       "\n",
       "    .dataframe tbody tr th {\n",
       "        vertical-align: top;\n",
       "    }\n",
       "\n",
       "    .dataframe thead th {\n",
       "        text-align: right;\n",
       "    }\n",
       "</style>\n",
       "<table border=\"1\" class=\"dataframe\">\n",
       "  <thead>\n",
       "    <tr style=\"text-align: right;\">\n",
       "      <th></th>\n",
       "      <th>X</th>\n",
       "      <th>Y</th>\n",
       "      <th>Z</th>\n",
       "      <th>deltaI</th>\n",
       "      <th>BG</th>\n",
       "      <th>vol</th>\n",
       "      <th>deltaI_total</th>\n",
       "    </tr>\n",
       "  </thead>\n",
       "  <tbody>\n",
       "    <tr>\n",
       "      <th>0</th>\n",
       "      <td>1125</td>\n",
       "      <td>1370</td>\n",
       "      <td>30</td>\n",
       "      <td>9</td>\n",
       "      <td>0</td>\n",
       "      <td>4</td>\n",
       "      <td>9</td>\n",
       "    </tr>\n",
       "    <tr>\n",
       "      <th>1</th>\n",
       "      <td>1088</td>\n",
       "      <td>1396</td>\n",
       "      <td>31</td>\n",
       "      <td>33</td>\n",
       "      <td>0</td>\n",
       "      <td>13</td>\n",
       "      <td>33</td>\n",
       "    </tr>\n",
       "    <tr>\n",
       "      <th>2</th>\n",
       "      <td>1100</td>\n",
       "      <td>1402</td>\n",
       "      <td>31</td>\n",
       "      <td>7</td>\n",
       "      <td>0</td>\n",
       "      <td>3</td>\n",
       "      <td>7</td>\n",
       "    </tr>\n",
       "    <tr>\n",
       "      <th>3</th>\n",
       "      <td>1216</td>\n",
       "      <td>1425</td>\n",
       "      <td>33</td>\n",
       "      <td>29</td>\n",
       "      <td>0</td>\n",
       "      <td>12</td>\n",
       "      <td>29</td>\n",
       "    </tr>\n",
       "    <tr>\n",
       "      <th>4</th>\n",
       "      <td>1126</td>\n",
       "      <td>1331</td>\n",
       "      <td>33</td>\n",
       "      <td>39</td>\n",
       "      <td>0</td>\n",
       "      <td>13</td>\n",
       "      <td>39</td>\n",
       "    </tr>\n",
       "    <tr>\n",
       "      <th>...</th>\n",
       "      <td>...</td>\n",
       "      <td>...</td>\n",
       "      <td>...</td>\n",
       "      <td>...</td>\n",
       "      <td>...</td>\n",
       "      <td>...</td>\n",
       "      <td>...</td>\n",
       "    </tr>\n",
       "    <tr>\n",
       "      <th>204082</th>\n",
       "      <td>728</td>\n",
       "      <td>1083</td>\n",
       "      <td>1096</td>\n",
       "      <td>6</td>\n",
       "      <td>0</td>\n",
       "      <td>3</td>\n",
       "      <td>6</td>\n",
       "    </tr>\n",
       "    <tr>\n",
       "      <th>204083</th>\n",
       "      <td>734</td>\n",
       "      <td>1043</td>\n",
       "      <td>1098</td>\n",
       "      <td>18</td>\n",
       "      <td>0</td>\n",
       "      <td>8</td>\n",
       "      <td>18</td>\n",
       "    </tr>\n",
       "    <tr>\n",
       "      <th>204084</th>\n",
       "      <td>703</td>\n",
       "      <td>1068</td>\n",
       "      <td>1098</td>\n",
       "      <td>4</td>\n",
       "      <td>0</td>\n",
       "      <td>2</td>\n",
       "      <td>4</td>\n",
       "    </tr>\n",
       "    <tr>\n",
       "      <th>204085</th>\n",
       "      <td>725</td>\n",
       "      <td>1037</td>\n",
       "      <td>1099</td>\n",
       "      <td>8</td>\n",
       "      <td>0</td>\n",
       "      <td>4</td>\n",
       "      <td>8</td>\n",
       "    </tr>\n",
       "    <tr>\n",
       "      <th>204086</th>\n",
       "      <td>718</td>\n",
       "      <td>1045</td>\n",
       "      <td>1099</td>\n",
       "      <td>2</td>\n",
       "      <td>0</td>\n",
       "      <td>1</td>\n",
       "      <td>2</td>\n",
       "    </tr>\n",
       "  </tbody>\n",
       "</table>\n",
       "<p>204087 rows × 7 columns</p>\n",
       "</div>"
      ],
      "text/plain": [
       "           X     Y     Z  deltaI  BG  vol  deltaI_total\n",
       "0       1125  1370    30       9   0    4             9\n",
       "1       1088  1396    31      33   0   13            33\n",
       "2       1100  1402    31       7   0    3             7\n",
       "3       1216  1425    33      29   0   12            29\n",
       "4       1126  1331    33      39   0   13            39\n",
       "...      ...   ...   ...     ...  ..  ...           ...\n",
       "204082   728  1083  1096       6   0    3             6\n",
       "204083   734  1043  1098      18   0    8            18\n",
       "204084   703  1068  1098       4   0    2             4\n",
       "204085   725  1037  1099       8   0    4             8\n",
       "204086   718  1045  1099       2   0    1             2\n",
       "\n",
       "[204087 rows x 7 columns]"
      ]
     },
     "execution_count": 24,
     "metadata": {},
     "output_type": "execute_result"
    }
   ],
   "source": [
    "df12"
   ]
  },
  {
   "cell_type": "code",
   "execution_count": 25,
   "metadata": {},
   "outputs": [
    {
     "data": {
      "text/plain": [
       "1720"
      ]
     },
     "execution_count": 25,
     "metadata": {},
     "output_type": "execute_result"
    }
   ],
   "source": [
    "df12[\"X\"].max()"
   ]
  },
  {
   "cell_type": "code",
   "execution_count": 26,
   "metadata": {},
   "outputs": [
    {
     "data": {
      "text/plain": [
       "2420"
      ]
     },
     "execution_count": 26,
     "metadata": {},
     "output_type": "execute_result"
    }
   ],
   "source": [
    "df12[\"Y\"].max()"
   ]
  },
  {
   "cell_type": "code",
   "execution_count": 27,
   "metadata": {},
   "outputs": [
    {
     "data": {
      "text/plain": [
       "1099"
      ]
     },
     "execution_count": 27,
     "metadata": {},
     "output_type": "execute_result"
    }
   ],
   "source": [
    "df12[\"Z\"].max()"
   ]
  },
  {
   "cell_type": "code",
   "execution_count": 28,
   "metadata": {},
   "outputs": [],
   "source": [
    "dir1 = \"/export3/Imaging/Axial/\"+PathPool[0]\n",
    "\n",
    "csv_tau = dir1 + \"csv_tau12.csv\"\n",
    "\n",
    "df12= df12.astype('int')\n",
    "df12.to_csv(csv_tau, index=False, header=True, chunksize=50000,\n",
    "            columns=[\"X\",\"Y\",\"Z\",\"deltaI\",\"BG\",\"vol\",\"deltaI_total\"])"
   ]
  },
  {
   "cell_type": "code",
   "execution_count": 29,
   "metadata": {},
   "outputs": [],
   "source": [
    "# Convert to micrometers (um), compatible with CUBIC-Cloud.\n",
    "scale = 8.3 #um\n",
    "\n",
    "df13 = []\n",
    "df13 = pd.DataFrame({\n",
    "    \"X\":pd.Series(data_2[\"centroid_x\"]*scale, dtype=np.int64),\n",
    "    \"Y\":pd.Series(data_2[\"centroid_y\"]*scale, dtype=np.int64),\n",
    "    \"Z\":pd.Series(data_2[\"centroid_z\"]*scale, dtype=np.int64),\n",
    "    \"deltaI\":pd.Series(data_1[\"intensity\"], dtype=np.int64),\n",
    "    \"BG\":pd.Series(blunk_array_0, dtype=np.int64),\n",
    "    \"vol\":pd.Series(data_1[\"size\"]*scale*scale*scale, dtype=np.int64),\n",
    "    \"deltaI_total\":pd.Series(data_1[\"intensity\"], dtype=np.int64)\n",
    "        })\n",
    "\n",
    "\n",
    "dir1 = \"/export3/Imaging/Axial/\"+PathPool[0]\n",
    "\n",
    "csv_tau = dir1 + \"csv_tau12_um.csv\"\n",
    "\n",
    "df13= df13.astype('int')\n",
    "df13.to_csv(csv_tau, index=False, header=True, chunksize=50000,\n",
    "            columns=[\"X\",\"Y\",\"Z\",\"deltaI\",\"BG\",\"vol\",\"deltaI_total\"])"
   ]
  },
  {
   "cell_type": "code",
   "execution_count": 42,
   "metadata": {},
   "outputs": [
    {
     "data": {
      "text/html": [
       "<div>\n",
       "<style scoped>\n",
       "    .dataframe tbody tr th:only-of-type {\n",
       "        vertical-align: middle;\n",
       "    }\n",
       "\n",
       "    .dataframe tbody tr th {\n",
       "        vertical-align: top;\n",
       "    }\n",
       "\n",
       "    .dataframe thead th {\n",
       "        text-align: right;\n",
       "    }\n",
       "</style>\n",
       "<table border=\"1\" class=\"dataframe\">\n",
       "  <thead>\n",
       "    <tr style=\"text-align: right;\">\n",
       "      <th></th>\n",
       "      <th>X</th>\n",
       "      <th>Y</th>\n",
       "      <th>Z</th>\n",
       "      <th>deltaI</th>\n",
       "      <th>BG</th>\n",
       "      <th>vol</th>\n",
       "      <th>deltaI_total</th>\n",
       "    </tr>\n",
       "  </thead>\n",
       "  <tbody>\n",
       "    <tr>\n",
       "      <th>0</th>\n",
       "      <td>5386</td>\n",
       "      <td>9810</td>\n",
       "      <td>182</td>\n",
       "      <td>8</td>\n",
       "      <td>0</td>\n",
       "      <td>571</td>\n",
       "      <td>8</td>\n",
       "    </tr>\n",
       "    <tr>\n",
       "      <th>1</th>\n",
       "      <td>5096</td>\n",
       "      <td>8930</td>\n",
       "      <td>215</td>\n",
       "      <td>26</td>\n",
       "      <td>0</td>\n",
       "      <td>2287</td>\n",
       "      <td>26</td>\n",
       "    </tr>\n",
       "    <tr>\n",
       "      <th>2</th>\n",
       "      <td>5212</td>\n",
       "      <td>8881</td>\n",
       "      <td>224</td>\n",
       "      <td>10</td>\n",
       "      <td>0</td>\n",
       "      <td>1143</td>\n",
       "      <td>10</td>\n",
       "    </tr>\n",
       "    <tr>\n",
       "      <th>3</th>\n",
       "      <td>5909</td>\n",
       "      <td>9437</td>\n",
       "      <td>224</td>\n",
       "      <td>17</td>\n",
       "      <td>0</td>\n",
       "      <td>1715</td>\n",
       "      <td>17</td>\n",
       "    </tr>\n",
       "    <tr>\n",
       "      <th>4</th>\n",
       "      <td>4863</td>\n",
       "      <td>8632</td>\n",
       "      <td>232</td>\n",
       "      <td>46</td>\n",
       "      <td>0</td>\n",
       "      <td>4574</td>\n",
       "      <td>46</td>\n",
       "    </tr>\n",
       "    <tr>\n",
       "      <th>...</th>\n",
       "      <td>...</td>\n",
       "      <td>...</td>\n",
       "      <td>...</td>\n",
       "      <td>...</td>\n",
       "      <td>...</td>\n",
       "      <td>...</td>\n",
       "      <td>...</td>\n",
       "    </tr>\n",
       "    <tr>\n",
       "      <th>119474</th>\n",
       "      <td>5129</td>\n",
       "      <td>5893</td>\n",
       "      <td>8905</td>\n",
       "      <td>594</td>\n",
       "      <td>0</td>\n",
       "      <td>27445</td>\n",
       "      <td>594</td>\n",
       "    </tr>\n",
       "    <tr>\n",
       "      <th>119475</th>\n",
       "      <td>4365</td>\n",
       "      <td>6631</td>\n",
       "      <td>8914</td>\n",
       "      <td>383</td>\n",
       "      <td>0</td>\n",
       "      <td>13151</td>\n",
       "      <td>383</td>\n",
       "    </tr>\n",
       "    <tr>\n",
       "      <th>119476</th>\n",
       "      <td>4565</td>\n",
       "      <td>6332</td>\n",
       "      <td>8930</td>\n",
       "      <td>678</td>\n",
       "      <td>0</td>\n",
       "      <td>37166</td>\n",
       "      <td>678</td>\n",
       "    </tr>\n",
       "    <tr>\n",
       "      <th>119477</th>\n",
       "      <td>4623</td>\n",
       "      <td>5909</td>\n",
       "      <td>8939</td>\n",
       "      <td>1121</td>\n",
       "      <td>0</td>\n",
       "      <td>40025</td>\n",
       "      <td>1121</td>\n",
       "    </tr>\n",
       "    <tr>\n",
       "      <th>119478</th>\n",
       "      <td>4523</td>\n",
       "      <td>6166</td>\n",
       "      <td>8955</td>\n",
       "      <td>209</td>\n",
       "      <td>0</td>\n",
       "      <td>14866</td>\n",
       "      <td>209</td>\n",
       "    </tr>\n",
       "  </tbody>\n",
       "</table>\n",
       "<p>119479 rows × 7 columns</p>\n",
       "</div>"
      ],
      "text/plain": [
       "           X     Y     Z  deltaI  BG    vol  deltaI_total\n",
       "0       5386  9810   182       8   0    571             8\n",
       "1       5096  8930   215      26   0   2287            26\n",
       "2       5212  8881   224      10   0   1143            10\n",
       "3       5909  9437   224      17   0   1715            17\n",
       "4       4863  8632   232      46   0   4574            46\n",
       "...      ...   ...   ...     ...  ..    ...           ...\n",
       "119474  5129  5893  8905     594   0  27445           594\n",
       "119475  4365  6631  8914     383   0  13151           383\n",
       "119476  4565  6332  8930     678   0  37166           678\n",
       "119477  4623  5909  8939    1121   0  40025          1121\n",
       "119478  4523  6166  8955     209   0  14866           209\n",
       "\n",
       "[119479 rows x 7 columns]"
      ]
     },
     "execution_count": 42,
     "metadata": {},
     "output_type": "execute_result"
    }
   ],
   "source": [
    "df13"
   ]
  },
  {
   "cell_type": "code",
   "execution_count": 39,
   "metadata": {},
   "outputs": [],
   "source": [
    "# check\n",
    "scale=8.3 # um\n",
    "scale=scale/50 # 50um scaleに変換\n",
    "\n",
    "ptsw25 = []\n",
    "ptsw25 = pd.DataFrame({\n",
    "    \"x\":pd.Series(np.array(df12[\"X\"])*scale, dtype=np.float),\n",
    "    \"y\":pd.Series(np.array(df12[\"Y\"])*scale, dtype=np.float),\n",
    "    \"z\":pd.Series(np.array(df12[\"Z\"])*scale, dtype=np.float),\n",
    "        })"
   ]
  },
  {
   "cell_type": "code",
   "execution_count": 40,
   "metadata": {},
   "outputs": [
    {
     "data": {
      "text/html": [
       "<div>\n",
       "<style scoped>\n",
       "    .dataframe tbody tr th:only-of-type {\n",
       "        vertical-align: middle;\n",
       "    }\n",
       "\n",
       "    .dataframe tbody tr th {\n",
       "        vertical-align: top;\n",
       "    }\n",
       "\n",
       "    .dataframe thead th {\n",
       "        text-align: right;\n",
       "    }\n",
       "</style>\n",
       "<table border=\"1\" class=\"dataframe\">\n",
       "  <thead>\n",
       "    <tr style=\"text-align: right;\">\n",
       "      <th></th>\n",
       "      <th>x</th>\n",
       "      <th>y</th>\n",
       "      <th>z</th>\n",
       "    </tr>\n",
       "  </thead>\n",
       "  <tbody>\n",
       "    <tr>\n",
       "      <th>0</th>\n",
       "      <td>178.284</td>\n",
       "      <td>189.738</td>\n",
       "      <td>4.980</td>\n",
       "    </tr>\n",
       "    <tr>\n",
       "      <th>1</th>\n",
       "      <td>183.928</td>\n",
       "      <td>198.868</td>\n",
       "      <td>5.312</td>\n",
       "    </tr>\n",
       "    <tr>\n",
       "      <th>2</th>\n",
       "      <td>169.818</td>\n",
       "      <td>212.812</td>\n",
       "      <td>5.478</td>\n",
       "    </tr>\n",
       "    <tr>\n",
       "      <th>3</th>\n",
       "      <td>174.300</td>\n",
       "      <td>210.488</td>\n",
       "      <td>5.478</td>\n",
       "    </tr>\n",
       "    <tr>\n",
       "      <th>4</th>\n",
       "      <td>170.814</td>\n",
       "      <td>207.998</td>\n",
       "      <td>5.976</td>\n",
       "    </tr>\n",
       "    <tr>\n",
       "      <th>...</th>\n",
       "      <td>...</td>\n",
       "      <td>...</td>\n",
       "      <td>...</td>\n",
       "    </tr>\n",
       "    <tr>\n",
       "      <th>274854</th>\n",
       "      <td>113.378</td>\n",
       "      <td>127.156</td>\n",
       "      <td>175.296</td>\n",
       "    </tr>\n",
       "    <tr>\n",
       "      <th>274855</th>\n",
       "      <td>111.718</td>\n",
       "      <td>119.686</td>\n",
       "      <td>175.462</td>\n",
       "    </tr>\n",
       "    <tr>\n",
       "      <th>274856</th>\n",
       "      <td>112.216</td>\n",
       "      <td>124.832</td>\n",
       "      <td>175.462</td>\n",
       "    </tr>\n",
       "    <tr>\n",
       "      <th>274857</th>\n",
       "      <td>113.046</td>\n",
       "      <td>126.160</td>\n",
       "      <td>175.462</td>\n",
       "    </tr>\n",
       "    <tr>\n",
       "      <th>274858</th>\n",
       "      <td>114.706</td>\n",
       "      <td>131.638</td>\n",
       "      <td>175.462</td>\n",
       "    </tr>\n",
       "  </tbody>\n",
       "</table>\n",
       "<p>274859 rows × 3 columns</p>\n",
       "</div>"
      ],
      "text/plain": [
       "              x        y        z\n",
       "0       178.284  189.738    4.980\n",
       "1       183.928  198.868    5.312\n",
       "2       169.818  212.812    5.478\n",
       "3       174.300  210.488    5.478\n",
       "4       170.814  207.998    5.976\n",
       "...         ...      ...      ...\n",
       "274854  113.378  127.156  175.296\n",
       "274855  111.718  119.686  175.462\n",
       "274856  112.216  124.832  175.462\n",
       "274857  113.046  126.160  175.462\n",
       "274858  114.706  131.638  175.462\n",
       "\n",
       "[274859 rows x 3 columns]"
      ]
     },
     "execution_count": 40,
     "metadata": {},
     "output_type": "execute_result"
    }
   ],
   "source": [
    "ptsw25"
   ]
  },
  {
   "cell_type": "code",
   "execution_count": 42,
   "metadata": {},
   "outputs": [],
   "source": [
    "# check the pTau density.\n",
    "depth_ori = int(1068*scale)\n",
    "height_ori =int(2005*scale)\n",
    "width_ori = int(1692*scale)\n",
    "\n",
    "img_N_ori,_ = np.histogramdd(\n",
    "    np.vstack([\n",
    "        ptsw25['z'].values,\n",
    "        ptsw25['y'].values,\n",
    "        ptsw25['x'].values\n",
    "        ]).T,\n",
    "        bins=(depth_ori, height_ori, width_ori),\n",
    "        range=[(0,depth_ori-1),(0,height_ori-1),(0,width_ori-1)]\n",
    "    )\n",
    "        "
   ]
  },
  {
   "cell_type": "code",
   "execution_count": 43,
   "metadata": {},
   "outputs": [],
   "source": [
    "tifffile.imsave(\n",
    "        dir1+ \"tau_density_50um.tif\",\n",
    "        img_N_ori.astype(np.uint16)\n",
    "    )"
   ]
  },
  {
   "cell_type": "code",
   "execution_count": null,
   "metadata": {},
   "outputs": [],
   "source": [
    "# Please upload the files `tau_density_50um.tif` and `csv_tau12_um.csv` to CUBIC-Cloud.\n",
    "# The guidelines of CUBIC-Cloud were detailed in Mano T et al., CellRepMethods, 2021 (DOIhttps://doi.org/10.1016/j.crmeth.2021.100038).\n",
    "# Website URL: https://cubic-cloud.com/ \n",
    "# You can use the outputs from CUBIC-Cloud for further analysis, including the \"Tau gradient consensus analysis.ipynb\".\n",
    "\n",
    "## CUBIC-Cloud effectively represents all pTau depositions as point clouds.\n",
    "## Supplementary Figures 4D, 4E, and 5AB were generated using the CUBIC-Cloud platform."
   ]
  },
  {
   "cell_type": "code",
   "execution_count": 121,
   "metadata": {},
   "outputs": [
    {
     "name": "stdout",
     "output_type": "stream",
     "text": [
      "[*] Preparing nifti image for atlas...\n",
      "[*] Preparing nifti image for moving...\n",
      "[*] Executing : ITK_GLOBAL_DEFAULT_NUMBER_OF_THREADS=40 && /usr/local/ants-2.1.0-redhat/antsRegistration -d 3 --initial-moving-transform [/export3/Imaging/cubic-atlas_v1-1/cubic-atlas/iso_80um.nii.gz,/export3/Imaging/Axial/Sahara_project/ID357_6.5_6.5_8.3um_version/whole.nii.gz,1] --interpolation Linear --use-histogram-matching 0 --winsorize-image-intensities [0.05,1.0] --float 0 --output [/export3/Imaging/Axial/Sahara_project/ID357_6.5_6.5_8.3um_version/F2M_,/export3/Imaging/Axial/Sahara_project/ID357_6.5_6.5_8.3um_version/F2M_Warped.nii.gz,/export3/Imaging/Axial/Sahara_project/ID357_6.5_6.5_8.3um_version/F2M_InvWarped.nii.gz] --transform Affine[0.1] --metric MI[/export3/Imaging/cubic-atlas_v1-1/cubic-atlas/iso_80um.nii.gz,/export3/Imaging/Axial/Sahara_project/ID357_6.5_6.5_8.3um_version/whole.nii.gz,1,128,Regular,0.5] --convergence [1000x1000x10000,1e-5,15] --shrink-factors 8x4x2 --smoothing-sigmas 3x2x1vox --transform SyN[0.1,3.0,0.0] --metric CC[/export3/Imaging/cubic-atlas_v1-1/cubic-atlas/iso_80um.nii.gz,/export3/Imaging/Axial/Sahara_project/ID357_6.5_6.5_8.3um_version/whole.nii.gz,1,4] --convergence [500x500x500x50,1e-6,10] --shrink-factors 8x4x2x1 --smoothing-sigmas 3x2x1x0vox\n"
     ]
    },
    {
     "ename": "KeyboardInterrupt",
     "evalue": "",
     "output_type": "error",
     "traceback": [
      "\u001b[0;31m---------------------------------------------------------------------------\u001b[0m",
      "\u001b[0;31mKeyboardInterrupt\u001b[0m                         Traceback (most recent call last)",
      "\u001b[0;32m<ipython-input-121-5c4e8e9b1913>\u001b[0m in \u001b[0;36m<module>\u001b[0;34m\u001b[0m\n\u001b[1;32m     77\u001b[0m          \u001b[0;34m\"8.3um_to_50um_resized_rescaled16bit_isotropic_ID357_SYTOX_Tiled_image_stack_8bit-1\"\u001b[0m\u001b[0;34m,\u001b[0m\u001b[0;34m\u001b[0m\u001b[0;34m\u001b[0m\u001b[0m\n\u001b[1;32m     78\u001b[0m          \u001b[0;36m40\u001b[0m\u001b[0;34m,\u001b[0m\u001b[0;34m\u001b[0m\u001b[0;34m\u001b[0m\u001b[0m\n\u001b[0;32m---> 79\u001b[0;31m          \u001b[0;34m\"iso_80um\"\u001b[0m\u001b[0;34m,\u001b[0m\u001b[0;34m\u001b[0m\u001b[0;34m\u001b[0m\u001b[0m\n\u001b[0m\u001b[1;32m     80\u001b[0m )\n",
      "\u001b[0;32m<ipython-input-121-5c4e8e9b1913>\u001b[0m in \u001b[0;36mregister\u001b[0;34m(atlas_basedir, merging_basedir, mapping_basedir, prefix_ANTs, atlas_voxel_unit, sample_base_name, num_cpus, atlas_basename)\u001b[0m\n\u001b[1;32m     65\u001b[0m                          \u001b[0mmoving_file\u001b[0m \u001b[0;34m=\u001b[0m \u001b[0mmoving_nii_path\u001b[0m\u001b[0;34m,\u001b[0m\u001b[0;34m\u001b[0m\u001b[0;34m\u001b[0m\u001b[0m\n\u001b[1;32m     66\u001b[0m                          \u001b[0mdst_dir\u001b[0m \u001b[0;34m=\u001b[0m \u001b[0mmapping_basedir\u001b[0m\u001b[0;34m,\u001b[0m\u001b[0;34m\u001b[0m\u001b[0;34m\u001b[0m\u001b[0m\n\u001b[0;32m---> 67\u001b[0;31m                          threads = num_cpus)\n\u001b[0m\u001b[1;32m     68\u001b[0m     \u001b[0;32mreturn\u001b[0m\u001b[0;34m\u001b[0m\u001b[0;34m\u001b[0m\u001b[0m\n\u001b[1;32m     69\u001b[0m \u001b[0;34m\u001b[0m\u001b[0m\n",
      "\u001b[0;32m<ipython-input-121-5c4e8e9b1913>\u001b[0m in \u001b[0;36mrun_antsRegistration\u001b[0;34m(prefix_ants, atlas_file, moving_file, dst_dir, threads)\u001b[0m\n\u001b[1;32m     33\u001b[0m     )\n\u001b[1;32m     34\u001b[0m     \u001b[0mprint\u001b[0m\u001b[0;34m(\u001b[0m\u001b[0;34m\"[*] Executing : {}\"\u001b[0m\u001b[0;34m.\u001b[0m\u001b[0mformat\u001b[0m\u001b[0;34m(\u001b[0m\u001b[0mcmd\u001b[0m\u001b[0;34m)\u001b[0m\u001b[0;34m)\u001b[0m\u001b[0;34m\u001b[0m\u001b[0;34m\u001b[0m\u001b[0m\n\u001b[0;32m---> 35\u001b[0;31m     \u001b[0msp\u001b[0m\u001b[0;34m.\u001b[0m\u001b[0mcall\u001b[0m\u001b[0;34m(\u001b[0m\u001b[0mcmd\u001b[0m\u001b[0;34m,\u001b[0m \u001b[0mshell\u001b[0m\u001b[0;34m=\u001b[0m\u001b[0;32mTrue\u001b[0m\u001b[0;34m)\u001b[0m\u001b[0;34m\u001b[0m\u001b[0;34m\u001b[0m\u001b[0m\n\u001b[0m\u001b[1;32m     36\u001b[0m     \u001b[0;32mreturn\u001b[0m\u001b[0;34m\u001b[0m\u001b[0;34m\u001b[0m\u001b[0m\n\u001b[1;32m     37\u001b[0m \u001b[0;34m\u001b[0m\u001b[0m\n",
      "\u001b[0;32m/usr/lib64/python3.6/subprocess.py\u001b[0m in \u001b[0;36mcall\u001b[0;34m(timeout, *popenargs, **kwargs)\u001b[0m\n\u001b[1;32m    287\u001b[0m     \u001b[0;32mwith\u001b[0m \u001b[0mPopen\u001b[0m\u001b[0;34m(\u001b[0m\u001b[0;34m*\u001b[0m\u001b[0mpopenargs\u001b[0m\u001b[0;34m,\u001b[0m \u001b[0;34m**\u001b[0m\u001b[0mkwargs\u001b[0m\u001b[0;34m)\u001b[0m \u001b[0;32mas\u001b[0m \u001b[0mp\u001b[0m\u001b[0;34m:\u001b[0m\u001b[0;34m\u001b[0m\u001b[0;34m\u001b[0m\u001b[0m\n\u001b[1;32m    288\u001b[0m         \u001b[0;32mtry\u001b[0m\u001b[0;34m:\u001b[0m\u001b[0;34m\u001b[0m\u001b[0;34m\u001b[0m\u001b[0m\n\u001b[0;32m--> 289\u001b[0;31m             \u001b[0;32mreturn\u001b[0m \u001b[0mp\u001b[0m\u001b[0;34m.\u001b[0m\u001b[0mwait\u001b[0m\u001b[0;34m(\u001b[0m\u001b[0mtimeout\u001b[0m\u001b[0;34m=\u001b[0m\u001b[0mtimeout\u001b[0m\u001b[0;34m)\u001b[0m\u001b[0;34m\u001b[0m\u001b[0;34m\u001b[0m\u001b[0m\n\u001b[0m\u001b[1;32m    290\u001b[0m         \u001b[0;32mexcept\u001b[0m\u001b[0;34m:\u001b[0m\u001b[0;34m\u001b[0m\u001b[0;34m\u001b[0m\u001b[0m\n\u001b[1;32m    291\u001b[0m             \u001b[0mp\u001b[0m\u001b[0;34m.\u001b[0m\u001b[0mkill\u001b[0m\u001b[0;34m(\u001b[0m\u001b[0;34m)\u001b[0m\u001b[0;34m\u001b[0m\u001b[0;34m\u001b[0m\u001b[0m\n",
      "\u001b[0;32m/usr/lib64/python3.6/subprocess.py\u001b[0m in \u001b[0;36mwait\u001b[0;34m(self, timeout, endtime)\u001b[0m\n\u001b[1;32m   1475\u001b[0m                         \u001b[0;32mif\u001b[0m \u001b[0mself\u001b[0m\u001b[0;34m.\u001b[0m\u001b[0mreturncode\u001b[0m \u001b[0;32mis\u001b[0m \u001b[0;32mnot\u001b[0m \u001b[0;32mNone\u001b[0m\u001b[0;34m:\u001b[0m\u001b[0;34m\u001b[0m\u001b[0;34m\u001b[0m\u001b[0m\n\u001b[1;32m   1476\u001b[0m                             \u001b[0;32mbreak\u001b[0m  \u001b[0;31m# Another thread waited.\u001b[0m\u001b[0;34m\u001b[0m\u001b[0;34m\u001b[0m\u001b[0m\n\u001b[0;32m-> 1477\u001b[0;31m                         \u001b[0;34m(\u001b[0m\u001b[0mpid\u001b[0m\u001b[0;34m,\u001b[0m \u001b[0msts\u001b[0m\u001b[0;34m)\u001b[0m \u001b[0;34m=\u001b[0m \u001b[0mself\u001b[0m\u001b[0;34m.\u001b[0m\u001b[0m_try_wait\u001b[0m\u001b[0;34m(\u001b[0m\u001b[0;36m0\u001b[0m\u001b[0;34m)\u001b[0m\u001b[0;34m\u001b[0m\u001b[0;34m\u001b[0m\u001b[0m\n\u001b[0m\u001b[1;32m   1478\u001b[0m                         \u001b[0;31m# Check the pid and loop as waitpid has been known to\u001b[0m\u001b[0;34m\u001b[0m\u001b[0;34m\u001b[0m\u001b[0;34m\u001b[0m\u001b[0m\n\u001b[1;32m   1479\u001b[0m                         \u001b[0;31m# return 0 even without WNOHANG in odd situations.\u001b[0m\u001b[0;34m\u001b[0m\u001b[0;34m\u001b[0m\u001b[0;34m\u001b[0m\u001b[0m\n",
      "\u001b[0;32m/usr/lib64/python3.6/subprocess.py\u001b[0m in \u001b[0;36m_try_wait\u001b[0;34m(self, wait_flags)\u001b[0m\n\u001b[1;32m   1422\u001b[0m             \u001b[0;34m\"\"\"All callers to this function MUST hold self._waitpid_lock.\"\"\"\u001b[0m\u001b[0;34m\u001b[0m\u001b[0;34m\u001b[0m\u001b[0m\n\u001b[1;32m   1423\u001b[0m             \u001b[0;32mtry\u001b[0m\u001b[0;34m:\u001b[0m\u001b[0;34m\u001b[0m\u001b[0;34m\u001b[0m\u001b[0m\n\u001b[0;32m-> 1424\u001b[0;31m                 \u001b[0;34m(\u001b[0m\u001b[0mpid\u001b[0m\u001b[0;34m,\u001b[0m \u001b[0msts\u001b[0m\u001b[0;34m)\u001b[0m \u001b[0;34m=\u001b[0m \u001b[0mos\u001b[0m\u001b[0;34m.\u001b[0m\u001b[0mwaitpid\u001b[0m\u001b[0;34m(\u001b[0m\u001b[0mself\u001b[0m\u001b[0;34m.\u001b[0m\u001b[0mpid\u001b[0m\u001b[0;34m,\u001b[0m \u001b[0mwait_flags\u001b[0m\u001b[0;34m)\u001b[0m\u001b[0;34m\u001b[0m\u001b[0;34m\u001b[0m\u001b[0m\n\u001b[0m\u001b[1;32m   1425\u001b[0m             \u001b[0;32mexcept\u001b[0m \u001b[0mChildProcessError\u001b[0m\u001b[0;34m:\u001b[0m\u001b[0;34m\u001b[0m\u001b[0;34m\u001b[0m\u001b[0m\n\u001b[1;32m   1426\u001b[0m                 \u001b[0;31m# This happens if SIGCLD is set to be ignored or waiting\u001b[0m\u001b[0;34m\u001b[0m\u001b[0;34m\u001b[0m\u001b[0;34m\u001b[0m\u001b[0m\n",
      "\u001b[0;31mKeyboardInterrupt\u001b[0m: "
     ]
    }
   ],
   "source": [
    "## Registration without CUBIC-Cloud can be performed using the same parameters intended for CUBIC-Cloud.\n",
    "## To do this, you have to install the ANTs software and set up the environment. \n",
    "# For guidance, refer to Matsumoto et al., 2019, and Mano et al., 2021.\n",
    "# CUBIC atlas 1.1 data (tif and csv.gz)can be downloaded from CUBIC-Atlas and CUBIC-Cloud data website: http://cubic-atlas.riken.jp/\n",
    "\n",
    "import json, os.path, os, re, time\n",
    "import tifffile\n",
    "import joblib\n",
    "from docopt import docopt\n",
    "import subprocess as sp\n",
    "import pandas as pd\n",
    "import numpy as np\n",
    "import nibabel as nib\n",
    "import scipy.spatial\n",
    "\n",
    "def run_antsRegistration(prefix_ants, atlas_file, moving_file, dst_dir, threads):\n",
    "    \n",
    "    cmd = \"ITK_GLOBAL_DEFAULT_NUMBER_OF_THREADS={THREADS} && \"\n",
    "    cmd += \"{EXECUTABLE} -d 3 \"\n",
    "    cmd += \"--initial-moving-transform [{ATLAS_FILE},{MOVING_FILE},1] \"\n",
    "    cmd += \"--interpolation Linear \"\n",
    "    cmd += \"--use-histogram-matching 0 \"\n",
    "    cmd += \"--winsorize-image-intensities [0.05,1.0] \"  \n",
    "    cmd += \"--float 0 \"\n",
    "    cmd += \"--output [{DST_PREFIX},{WARPED_FILE},{INVWARPED_FILE}] \"\n",
    "    cmd += \"--transform Affine[0.1] --metric MI[{ATLAS_FILE},{MOVING_FILE},1,128,Regular,0.5] --convergence [1000x1000x10000,1e-5,15] --shrink-factors 8x4x2 --smoothing-sigmas 3x2x1vox \"\n",
    "    cmd += \"--transform SyN[0.1,3.0,0.0] --metric CC[{ATLAS_FILE},{MOVING_FILE},1,4] --convergence [500x500x500x50,1e-6,10] --shrink-factors 8x4x2x1 --smoothing-sigmas 3x2x1x0vox\"\n",
    "    cmd = cmd.format(\n",
    "        THREADS = threads,\n",
    "        EXECUTABLE = os.path.join(prefix_ants, \"antsRegistration\"),\n",
    "        DST_PREFIX = os.path.join(dst_dir, \"F2M_\"),\n",
    "        WARPED_FILE = os.path.join(dst_dir, \"F2M_Warped.nii.gz\"),\n",
    "        INVWARPED_FILE = os.path.join(dst_dir, \"F2M_InvWarped.nii.gz\"),\n",
    "        ATLAS_FILE = atlas_file,\n",
    "        MOVING_FILE = moving_file,\n",
    "    )\n",
    "    print(\"[*] Executing : {}\".format(cmd))\n",
    "    sp.call(cmd, shell=True)\n",
    "    return\n",
    "\n",
    "def register(atlas_basedir, merging_basedir, mapping_basedir,\n",
    "             prefix_ANTs, atlas_voxel_unit, sample_base_name, num_cpus=36,\n",
    "             atlas_basename=\"iso_80um\"):\n",
    "    atlas_tif_path = os.path.join(atlas_basedir, \"{}.tif\".format(atlas_basename))\n",
    "    atlas_nii_path = os.path.join(atlas_basedir, \"{}.nii.gz\".format(atlas_basename))\n",
    "    moving_tif_path = os.path.join(merging_basedir, sample_base_name + \".tif\")\n",
    "    moving_nii_path = os.path.join(mapping_basedir, \"whole.nii.gz\")\n",
    "\n",
    "    # prepare nifti image for atlas\n",
    "    print(\"[*] Preparing nifti image for atlas...\")\n",
    "    img_atlas = tifffile.imread(atlas_tif_path)\n",
    "    if not os.path.exists(atlas_nii_path):\n",
    "        nii_atlas = nib.Nifti1Image(np.swapaxes(img_atlas,0,2), affine=None)\n",
    "        aff = np.diag([-atlas_voxel_unit,-atlas_voxel_unit,atlas_voxel_unit,1])\n",
    "        nii_atlas.header.set_qform(aff, code=2)\n",
    "        nii_atlas.to_filename(atlas_nii_path)\n",
    "    # prepare nifti image for moving\n",
    "    print(\"[*] Preparing nifti image for moving...\")\n",
    "    img_moving = tifffile.imread(moving_tif_path)\n",
    "    nii_moving = nib.Nifti1Image(np.swapaxes(img_moving,0,2), affine=None)\n",
    "    aff = np.diag([-atlas_voxel_unit,-atlas_voxel_unit,atlas_voxel_unit,1])\n",
    "    nii_moving.header.set_qform(aff, code=2)\n",
    "    nii_moving.to_filename(movingn nii_path)\n",
    "\n",
    "    # run registration\n",
    "    run_antsRegistration(prefix_ants = prefix_ANTs,\n",
    "                         atlas_file = atlas_nii_path,\n",
    "                         moving_file = moving_nii_path,\n",
    "                         dst_dir = mapping_basedir,\n",
    "                         threads = num_cpus)\n",
    "    return\n",
    "\n",
    "\n",
    "register(\"/export3/Imaging/cubic-atlas_v1-1/cubic-atlas/\",\n",
    "         dir1,\n",
    "         dir1,\n",
    "         \"/usr/local/ants-2.1.0-redhat/\",\n",
    "         80.0,\n",
    "         \"8.3um_to_50um_resized_rescaled16bit_isotropic_ID357_SYTOX_Tiled_image_stack_8bit-1\",\n",
    "         40,\n",
    "         \"iso_80um\",       \n",
    ")"
   ]
  },
  {
   "cell_type": "code",
   "execution_count": 177,
   "metadata": {},
   "outputs": [
    {
     "name": "stdout",
     "output_type": "stream",
     "text": [
      "[*] Executing : /usr/local/ants-2.1.0-redhat/antsApplyTransformsToPoints -d 3 -i /export3/Imaging/Axial/Sahara_project/ID357_6.5_6.5_8.3um_version/csv_tau12_um_50_80_scale.csv -o /export3/Imaging/Axial/Sahara_project/ID357_6.5_6.5_8.3um_version/tmp_csv_tau12_um_aligned_with_ID_0.csv -t [/export3/Imaging/Axial/Sahara_project/ID357_6.5_6.5_8.3um_version/F2M_0GenericAffine.mat,1] -t /export3/Imaging/Axial/Sahara_project/ID357_6.5_6.5_8.3um_version/F2M_1InverseWarp.nii.gz\n",
      "Start annotation\n",
      "Annotation finished!\n"
     ]
    }
   ],
   "source": [
    "# Doing point transfer into atlas space\n",
    "\n",
    "dt_annotated = np.dtype([\n",
    "    ('X', 'f4'), ('Y', 'f4'), ('Z', 'f4'),\n",
    "    ('mapped_X', 'f4'), ('mapped_Y', 'f4'), ('mapped_Z', 'f4'),\n",
    "    ('Allen_ID', 'u2'), ('deltaI','u2'),('vol','u2')\n",
    "])\n",
    "\n",
    "def run_antsApplyTransformsToPoints(prefix_ants, src_csv, dst_csv, dst_dir):\n",
    "    cmd = \"{EXECUTABLE} \"\n",
    "    cmd += \"-d 3 \"\n",
    "    cmd += \"-i {SRC_CSV} \"\n",
    "    cmd += \"-o {DST_CSV} \"\n",
    "    cmd += \"-t [{AFFINE_MAT},1] \"\n",
    "    cmd += \"-t {INVWARP_NII}\"\n",
    "    cmd = cmd.format(\n",
    "        EXECUTABLE = os.path.join(prefix_ants, \"antsApplyTransformsToPoints\"),\n",
    "        AFFINE_MAT = os.path.join(dst_dir, \"F2M_0GenericAffine.mat\"),\n",
    "        INVWARP_NII = os.path.join(dst_dir, \"F2M_1InverseWarp.nii.gz\"),\n",
    "        SRC_CSV = src_csv,\n",
    "        DST_CSV = dst_csv,\n",
    "    )\n",
    "    print(\"[*] Executing : {}\".format(cmd))\n",
    "    # supress output\n",
    "    with open(os.devnull, 'w') as devnull:\n",
    "        sp.check_call(cmd, shell=True, stdout=devnull)\n",
    "    return\n",
    "\n",
    "def map_and_annotate_cellstacks(src_csv_path, annotated_csv_path, \n",
    "                                prefix_ANTs, mapping_basedir, atlas_points_path,\n",
    "                                downscale_unit, max_distance):\n",
    "    \n",
    "    if atlas_points_path.endswith(\"pkl\"):\n",
    "        df_atlas = joblib.load(atlas_points_path)\n",
    "    elif atlas_points_path.endswith(\"csv\") or atlas_points_path.endswith(\"csv.gz\"):\n",
    "        df_atlas = pd.read_csv(atlas_points_path, skiprows=1, header=None,\n",
    "                               names=[\"X(um)\",\"Y(um)\",\"Z(um)\",\"atlasID\"],\n",
    "                               dtype={\"X(um)\":np.float32, \"Y(um)\":np.float32, \"Z(um)\":np.float32, \"atlasID\":np.uint16})\n",
    "    df_src = pd.read_csv(\n",
    "        src_csv_path + \"csv_tau12_um.csv\",\n",
    "        dtype={\"X\":np.uint16, \"Y\":np.uint16, \"Z\":np.uint16,\n",
    "              \"deltaI\":np.uint16, \"vol\":np.uint16}\n",
    "    )\n",
    "    \n",
    "    # XYZの各列に50/80を掛ける\n",
    "    df_src2=df_src.copy()\n",
    "    df_src2[\"X\"] = df_src[\"X\"] * (80/50)\n",
    "    df_src2[\"Y\"] = df_src[\"Y\"] * (80/50)\n",
    "    df_src2[\"Z\"] = df_src[\"Z\"] * (80/50)\n",
    "    \n",
    "    df_src2.to_csv(src_csv_path + \"csv_tau12_um_50_80_scale.csv\", index=False, header=True, chunksize=50000,\n",
    "                columns=[\"X\",\"Y\",\"Z\",\"deltaI\",\"BG\",\"vol\",\"deltaI_total\"])\n",
    "    \n",
    "    run_antsApplyTransformsToPoints(\n",
    "    prefix_ants = prefix_ANTs,\n",
    "    src_csv = src_csv_path + \"csv_tau12_um_50_80_scale.csv\", # \"csv_tau12_um.csv\",\n",
    "    dst_csv = annotated_csv_path + \"tmp_csv_tau12_um_aligned_with_ID_0.csv\",\n",
    "    dst_dir = mapping_basedir)\n",
    "    \n",
    "    df_transformed = pd.read_csv(\n",
    "        annotated_csv_path + \"tmp_csv_tau12_um_aligned_with_ID_0.csv\",\n",
    "        dtype={\"X\":np.float32, \"Y\":np.float32, \"Z\":np.float32}\n",
    "    )\n",
    "    print(\"Start annotation\")\n",
    "    \n",
    "    tree = scipy.spatial.cKDTree( np.array([\n",
    "        df_atlas[\"X(um)\"].values,\n",
    "        df_atlas[\"Y(um)\"].values,\n",
    "        df_atlas[\"Z(um)\"].values\n",
    "    ]).T )\n",
    "    \n",
    "    \n",
    "    dist, idx = tree.query( np.array([\n",
    "            df_transformed[\"X\"].values,\n",
    "            df_transformed[\"Y\"].values,\n",
    "            df_transformed[\"Z\"].values,\n",
    "        ]).T, k=1, eps=0, p=2, distance_upper_bound=max_distance)\n",
    " \n",
    "    atlas_ID = np.zeros(idx.shape)\n",
    "    atlas_ID[idx != tree.n] = df_atlas[\"atlasID\"].values[idx[idx != tree.n]]\n",
    "    \n",
    "    data_annotated =  np.zeros((len(df_transformed),), dtype=dt_annotated)\n",
    "    \n",
    "    data_annotated[\"X\"] = df_src[\"X\"]\n",
    "    data_annotated[\"Y\"] = df_src[\"Y\"]\n",
    "    data_annotated[\"Z\"] = df_src[\"Z\"]\n",
    "    \n",
    "    data_annotated[\"mapped_X\"] = df_transformed[\"X\"]#*(80/50)\n",
    "    data_annotated[\"mapped_Y\"] = df_transformed[\"Y\"]#*(80/50)\n",
    "    data_annotated[\"mapped_Z\"] = df_transformed[\"Z\"]#*(80/50)\n",
    "    \n",
    "    data_annotated[\"Allen_ID\"] = atlas_ID\n",
    "    data_annotated[\"deltaI\"] = df_src[\"deltaI\"]\n",
    "    data_annotated[\"vol\"] = df_src[\"vol\"]\n",
    "    \n",
    "    data_annotated_df = pd.DataFrame(data_annotated)\n",
    "     \n",
    "    \n",
    "    #joblib.dump(data_annotated, annotated_csv_path + \"csv_tau12_um_aligned_with_ID_0.csv\", compress=3)\n",
    "    \n",
    "\n",
    "    data_annotated_df.to_csv(annotated_csv_path + \"csv_tau12_um_aligned_with_ID_0.csv\", index=False, header=True, chunksize=50000 ,\n",
    "                           columns=[\"X\",\"Y\",\"Z\",\"mapped_X\",\"mapped_Y\",\"mapped_Z\", \"Allen_ID\", \"deltaI\", \"vol\"])\n",
    "    \n",
    "    print(\"Annotation finished!\")\n",
    "\n",
    "\n",
    "map_and_annotate_cellstacks(\n",
    "    dir1,\n",
    "    dir1,\n",
    "    \"/usr/local/ants-2.1.0-redhat/\",\n",
    "    mapping_basedir =dir1,\n",
    "    atlas_points_path = \"/export3/Imaging/cubic-atlas_v1-1/cubic-atlas/CUBIC-Atlas.csv.gz\",\n",
    "    downscale_unit = 80.0,\n",
    "    max_distance = 160.0,\n",
    ")"
   ]
  },
  {
   "cell_type": "code",
   "execution_count": 55,
   "metadata": {},
   "outputs": [],
   "source": [
    "df_atlas = pd.read_csv(\"/export3/Imaging/cubic-atlas_v1-1/cubic-atlas/CUBIC-Atlas.csv.gz\")"
   ]
  },
  {
   "cell_type": "code",
   "execution_count": 122,
   "metadata": {},
   "outputs": [
    {
     "data": {
      "text/html": [
       "<div>\n",
       "<style scoped>\n",
       "    .dataframe tbody tr th:only-of-type {\n",
       "        vertical-align: middle;\n",
       "    }\n",
       "\n",
       "    .dataframe tbody tr th {\n",
       "        vertical-align: top;\n",
       "    }\n",
       "\n",
       "    .dataframe thead th {\n",
       "        text-align: right;\n",
       "    }\n",
       "</style>\n",
       "<table border=\"1\" class=\"dataframe\">\n",
       "  <thead>\n",
       "    <tr style=\"text-align: right;\">\n",
       "      <th></th>\n",
       "      <th>X(um)</th>\n",
       "      <th>Y(um)</th>\n",
       "      <th>Z(um)</th>\n",
       "      <th>ABAID</th>\n",
       "    </tr>\n",
       "  </thead>\n",
       "  <tbody>\n",
       "    <tr>\n",
       "      <th>0</th>\n",
       "      <td>11504.0</td>\n",
       "      <td>30496.7</td>\n",
       "      <td>10553.1</td>\n",
       "      <td>951.0</td>\n",
       "    </tr>\n",
       "    <tr>\n",
       "      <th>1</th>\n",
       "      <td>11640.3</td>\n",
       "      <td>30479.2</td>\n",
       "      <td>10529.0</td>\n",
       "      <td>951.0</td>\n",
       "    </tr>\n",
       "    <tr>\n",
       "      <th>2</th>\n",
       "      <td>11606.1</td>\n",
       "      <td>30480.1</td>\n",
       "      <td>10514.8</td>\n",
       "      <td>951.0</td>\n",
       "    </tr>\n",
       "    <tr>\n",
       "      <th>3</th>\n",
       "      <td>11635.3</td>\n",
       "      <td>30488.4</td>\n",
       "      <td>10509.6</td>\n",
       "      <td>951.0</td>\n",
       "    </tr>\n",
       "    <tr>\n",
       "      <th>4</th>\n",
       "      <td>11622.5</td>\n",
       "      <td>30495.2</td>\n",
       "      <td>10500.2</td>\n",
       "      <td>951.0</td>\n",
       "    </tr>\n",
       "    <tr>\n",
       "      <th>...</th>\n",
       "      <td>...</td>\n",
       "      <td>...</td>\n",
       "      <td>...</td>\n",
       "      <td>...</td>\n",
       "    </tr>\n",
       "    <tr>\n",
       "      <th>78620370</th>\n",
       "      <td>11868.0</td>\n",
       "      <td>5934.5</td>\n",
       "      <td>8701.6</td>\n",
       "      <td>68.0</td>\n",
       "    </tr>\n",
       "    <tr>\n",
       "      <th>78620371</th>\n",
       "      <td>11726.8</td>\n",
       "      <td>5964.2</td>\n",
       "      <td>8701.0</td>\n",
       "      <td>68.0</td>\n",
       "    </tr>\n",
       "    <tr>\n",
       "      <th>78620372</th>\n",
       "      <td>11995.9</td>\n",
       "      <td>5943.0</td>\n",
       "      <td>8679.0</td>\n",
       "      <td>68.0</td>\n",
       "    </tr>\n",
       "    <tr>\n",
       "      <th>78620373</th>\n",
       "      <td>12014.0</td>\n",
       "      <td>5952.5</td>\n",
       "      <td>8668.9</td>\n",
       "      <td>68.0</td>\n",
       "    </tr>\n",
       "    <tr>\n",
       "      <th>78620374</th>\n",
       "      <td>12018.8</td>\n",
       "      <td>5953.7</td>\n",
       "      <td>8623.8</td>\n",
       "      <td>68.0</td>\n",
       "    </tr>\n",
       "  </tbody>\n",
       "</table>\n",
       "<p>78620375 rows × 4 columns</p>\n",
       "</div>"
      ],
      "text/plain": [
       "            X(um)    Y(um)    Z(um)  ABAID\n",
       "0         11504.0  30496.7  10553.1  951.0\n",
       "1         11640.3  30479.2  10529.0  951.0\n",
       "2         11606.1  30480.1  10514.8  951.0\n",
       "3         11635.3  30488.4  10509.6  951.0\n",
       "4         11622.5  30495.2  10500.2  951.0\n",
       "...           ...      ...      ...    ...\n",
       "78620370  11868.0   5934.5   8701.6   68.0\n",
       "78620371  11726.8   5964.2   8701.0   68.0\n",
       "78620372  11995.9   5943.0   8679.0   68.0\n",
       "78620373  12014.0   5952.5   8668.9   68.0\n",
       "78620374  12018.8   5953.7   8623.8   68.0\n",
       "\n",
       "[78620375 rows x 4 columns]"
      ]
     },
     "execution_count": 122,
     "metadata": {},
     "output_type": "execute_result"
    }
   ],
   "source": [
    "df_atlas"
   ]
  },
  {
   "cell_type": "code",
   "execution_count": 126,
   "metadata": {},
   "outputs": [
    {
     "data": {
      "text/plain": [
       "30844.6"
      ]
     },
     "execution_count": 126,
     "metadata": {},
     "output_type": "execute_result"
    }
   ],
   "source": [
    "df_atlas[\"Y(um)\"].max()"
   ]
  },
  {
   "cell_type": "code",
   "execution_count": 118,
   "metadata": {},
   "outputs": [
    {
     "data": {
      "text/plain": [
       "385.5575"
      ]
     },
     "execution_count": 118,
     "metadata": {},
     "output_type": "execute_result"
    }
   ],
   "source": [
    "30844.6/80"
   ]
  },
  {
   "cell_type": "code",
   "execution_count": 17,
   "metadata": {},
   "outputs": [
    {
     "data": {
      "text/html": [
       "<div>\n",
       "<style scoped>\n",
       "    .dataframe tbody tr th:only-of-type {\n",
       "        vertical-align: middle;\n",
       "    }\n",
       "\n",
       "    .dataframe tbody tr th {\n",
       "        vertical-align: top;\n",
       "    }\n",
       "\n",
       "    .dataframe thead th {\n",
       "        text-align: right;\n",
       "    }\n",
       "</style>\n",
       "<table border=\"1\" class=\"dataframe\">\n",
       "  <thead>\n",
       "    <tr style=\"text-align: right;\">\n",
       "      <th></th>\n",
       "      <th>id</th>\n",
       "      <th>graph_order</th>\n",
       "      <th>R</th>\n",
       "      <th>G</th>\n",
       "      <th>B</th>\n",
       "    </tr>\n",
       "  </thead>\n",
       "  <tbody>\n",
       "    <tr>\n",
       "      <th>0</th>\n",
       "      <td>997</td>\n",
       "      <td>0</td>\n",
       "      <td>255</td>\n",
       "      <td>255</td>\n",
       "      <td>255</td>\n",
       "    </tr>\n",
       "    <tr>\n",
       "      <th>1</th>\n",
       "      <td>68</td>\n",
       "      <td>7</td>\n",
       "      <td>38</td>\n",
       "      <td>143</td>\n",
       "      <td>69</td>\n",
       "    </tr>\n",
       "    <tr>\n",
       "      <th>2</th>\n",
       "      <td>667</td>\n",
       "      <td>8</td>\n",
       "      <td>38</td>\n",
       "      <td>143</td>\n",
       "      <td>69</td>\n",
       "    </tr>\n",
       "    <tr>\n",
       "      <th>3</th>\n",
       "      <td>52192</td>\n",
       "      <td>9</td>\n",
       "      <td>38</td>\n",
       "      <td>143</td>\n",
       "      <td>69</td>\n",
       "    </tr>\n",
       "    <tr>\n",
       "      <th>4</th>\n",
       "      <td>52196</td>\n",
       "      <td>10</td>\n",
       "      <td>38</td>\n",
       "      <td>143</td>\n",
       "      <td>69</td>\n",
       "    </tr>\n",
       "    <tr>\n",
       "      <th>...</th>\n",
       "      <td>...</td>\n",
       "      <td>...</td>\n",
       "      <td>...</td>\n",
       "      <td>...</td>\n",
       "      <td>...</td>\n",
       "    </tr>\n",
       "    <tr>\n",
       "      <th>666</th>\n",
       "      <td>129</td>\n",
       "      <td>1299</td>\n",
       "      <td>170</td>\n",
       "      <td>170</td>\n",
       "      <td>170</td>\n",
       "    </tr>\n",
       "    <tr>\n",
       "      <th>667</th>\n",
       "      <td>140</td>\n",
       "      <td>1300</td>\n",
       "      <td>170</td>\n",
       "      <td>170</td>\n",
       "      <td>170</td>\n",
       "    </tr>\n",
       "    <tr>\n",
       "      <th>668</th>\n",
       "      <td>145</td>\n",
       "      <td>1301</td>\n",
       "      <td>170</td>\n",
       "      <td>170</td>\n",
       "      <td>170</td>\n",
       "    </tr>\n",
       "    <tr>\n",
       "      <th>669</th>\n",
       "      <td>153</td>\n",
       "      <td>1302</td>\n",
       "      <td>170</td>\n",
       "      <td>170</td>\n",
       "      <td>170</td>\n",
       "    </tr>\n",
       "    <tr>\n",
       "      <th>670</th>\n",
       "      <td>164</td>\n",
       "      <td>1303</td>\n",
       "      <td>170</td>\n",
       "      <td>170</td>\n",
       "      <td>170</td>\n",
       "    </tr>\n",
       "  </tbody>\n",
       "</table>\n",
       "<p>671 rows × 5 columns</p>\n",
       "</div>"
      ],
      "text/plain": [
       "        id  graph_order    R    G    B\n",
       "0      997            0  255  255  255\n",
       "1       68            7   38  143   69\n",
       "2      667            8   38  143   69\n",
       "3    52192            9   38  143   69\n",
       "4    52196           10   38  143   69\n",
       "..     ...          ...  ...  ...  ...\n",
       "666    129         1299  170  170  170\n",
       "667    140         1300  170  170  170\n",
       "668    145         1301  170  170  170\n",
       "669    153         1302  170  170  170\n",
       "670    164         1303  170  170  170\n",
       "\n",
       "[671 rows x 5 columns]"
      ]
     },
     "execution_count": 17,
     "metadata": {},
     "output_type": "execute_result"
    }
   ],
   "source": [
    "# Note: We are currently using our local directory names (e.g., /export3/Imaging/...) for data paths.\n",
    "# Please refer to the same name files uploaded on GitHub as needed.\n",
    "# Read atlas information.Refer to Matsumoto Mitani Horiguchi et al 2019 Nature Protocols. (This file was uproaded in github.)\n",
    "\n",
    "data_Atlas = pd.read_csv(filepath_or_buffer=\"/export3/Imaging/atlas_for_fig/count_all_rgb.csv\", encoding=\"ms932\", sep=\",\")\n",
    "\n",
    "data_atlas=np.array(data_Atlas.values.tolist())\n",
    "\n",
    "data_GO = pd.read_csv(filepath_or_buffer=\"/export3/Imaging/atlas_for_fig/GOvsID_6region_removed.csv\", encoding=\"ms932\", sep=\",\")\n",
    "\n",
    "data_GO"
   ]
  },
  {
   "cell_type": "code",
   "execution_count": 18,
   "metadata": {},
   "outputs": [
    {
     "name": "stdout",
     "output_type": "stream",
     "text": [
      "1009\n",
      "949\n",
      "1016\n",
      "665\n",
      "538\n",
      "900\n",
      "848\n",
      "916\n",
      "336\n",
      "117\n",
      "125\n",
      "832\n",
      "62\n",
      "158\n",
      "911\n",
      "93\n",
      "229\n",
      "794\n",
      "798\n",
      "1116\n",
      "413\n",
      "841\n",
      "506\n",
      "658\n",
      "633\n",
      "482\n",
      "237\n",
      "380\n",
      "697\n",
      "744\n",
      "326\n",
      "812\n",
      "850\n",
      "866\n",
      "78\n",
      "1123\n",
      "553\n",
      "728\n",
      "48512\n",
      "956\n",
      "579\n",
      "964\n",
      "1108\n",
      "971\n",
      "48516\n",
      "986\n",
      "784\n",
      "6\n",
      "924\n",
      "190\n",
      "198\n",
      "1092\n",
      "48520\n",
      "48524\n",
      "102\n",
      "1051\n",
      "1060\n",
      "1043\n",
      "863\n",
      "397\n",
      "884\n",
      "908\n",
      "940\n",
      "466\n",
      "530\n",
      "603\n",
      "428\n",
      "436\n",
      "443\n",
      "449\n",
      "301\n",
      "48528\n",
      "54\n",
      "349\n",
      "753\n",
      "690\n",
      "681\n",
      "673\n",
      "802\n",
      "595\n",
      "611\n",
      "81\n",
      "98\n",
      "108\n",
      "129\n",
      "140\n",
      "145\n",
      "153\n",
      "164\n"
     ]
    }
   ],
   "source": [
    "# Remove signals related to the fiber tracts\",\"VS\"in this analysis.\n",
    "# Exclude entries containing an Allen_ID in oya_id[0].\n",
    "\n",
    "dir= \"/export3/Imaging/CUBIC-Atlas-R-test/\"\n",
    "dir_ana=dir+\"Allen_graph.json\"\n",
    "\n",
    "with open(dir_ana) as f:\n",
    "    param_ana = json.load(f)\n",
    "    \n",
    "id=[]\n",
    "path_id=[]\n",
    "\n",
    "for el in param_ana:\n",
    "    original = el['id']\n",
    "    id.append(original)\n",
    "    newid = el['structure_id_path']\n",
    "    path_id.append(newid)\n",
    "\n",
    "import ast\n",
    "labels = []\n",
    "ids = []\n",
    "colorlist=[]\n",
    "volumelist_53=[]\n",
    "\n",
    "labels = [\"fiber tracts\",\"VS\" ]\n",
    "ids =    [1009,73]\n",
    "colorlist=[(204/255, 204/255, 204/255),(170/255, 170/255, 170/255)]\n",
    "\n",
    "cou=0\n",
    "oya_id=[]\n",
    "\n",
    "for i in ids:\n",
    "    oya_id.append([])\n",
    "\n",
    "for el in param_ana:\n",
    "    temp_id = el['id']\n",
    "    temp_path_id = el['structure_id_path']\n",
    "    temp_oya_id = 997\n",
    "    for ids_i in ids:     \n",
    "        if temp_path_id.count(ids_i) > 0:\n",
    "            temp_oya_id= ids_i \n",
    "    if temp_oya_id != 997 and temp_id in data_GO[\"id\"].tolist():\n",
    "        print(temp_id)\n",
    "        oya_id[ids.index(temp_oya_id)].append(temp_id)\n",
    "        cou = cou +1"
   ]
  },
  {
   "cell_type": "code",
   "execution_count": 14,
   "metadata": {},
   "outputs": [],
   "source": [
    "df_tau = []\n",
    "df_tau = pd.read_csv(\n",
    "    dir1 + \"csv_tau12_um_aligned_with_ID_0.csv\",\n",
    ")"
   ]
  },
  {
   "cell_type": "code",
   "execution_count": 15,
   "metadata": {},
   "outputs": [
    {
     "data": {
      "text/html": [
       "<div>\n",
       "<style scoped>\n",
       "    .dataframe tbody tr th:only-of-type {\n",
       "        vertical-align: middle;\n",
       "    }\n",
       "\n",
       "    .dataframe tbody tr th {\n",
       "        vertical-align: top;\n",
       "    }\n",
       "\n",
       "    .dataframe thead th {\n",
       "        text-align: right;\n",
       "    }\n",
       "</style>\n",
       "<table border=\"1\" class=\"dataframe\">\n",
       "  <thead>\n",
       "    <tr style=\"text-align: right;\">\n",
       "      <th></th>\n",
       "      <th>X</th>\n",
       "      <th>Y</th>\n",
       "      <th>Z</th>\n",
       "      <th>mapped_X</th>\n",
       "      <th>mapped_Y</th>\n",
       "      <th>mapped_Z</th>\n",
       "      <th>Allen_ID</th>\n",
       "      <th>deltaI</th>\n",
       "      <th>vol</th>\n",
       "    </tr>\n",
       "  </thead>\n",
       "  <tbody>\n",
       "    <tr>\n",
       "      <th>0</th>\n",
       "      <td>8914.0</td>\n",
       "      <td>9486.0</td>\n",
       "      <td>249.0</td>\n",
       "      <td>16767.8</td>\n",
       "      <td>18597.5</td>\n",
       "      <td>2495.98</td>\n",
       "      <td>1066</td>\n",
       "      <td>32</td>\n",
       "      <td>2858</td>\n",
       "    </tr>\n",
       "    <tr>\n",
       "      <th>1</th>\n",
       "      <td>9196.0</td>\n",
       "      <td>9943.0</td>\n",
       "      <td>265.0</td>\n",
       "      <td>17304.0</td>\n",
       "      <td>19331.1</td>\n",
       "      <td>2512.24</td>\n",
       "      <td>805</td>\n",
       "      <td>20</td>\n",
       "      <td>2287</td>\n",
       "    </tr>\n",
       "    <tr>\n",
       "      <th>2</th>\n",
       "      <td>8490.0</td>\n",
       "      <td>10640.0</td>\n",
       "      <td>273.0</td>\n",
       "      <td>16174.3</td>\n",
       "      <td>20621.2</td>\n",
       "      <td>2528.42</td>\n",
       "      <td>671</td>\n",
       "      <td>166</td>\n",
       "      <td>10863</td>\n",
       "    </tr>\n",
       "    <tr>\n",
       "      <th>3</th>\n",
       "      <td>8715.0</td>\n",
       "      <td>10524.0</td>\n",
       "      <td>273.0</td>\n",
       "      <td>16553.6</td>\n",
       "      <td>20392.3</td>\n",
       "      <td>2522.33</td>\n",
       "      <td>805</td>\n",
       "      <td>5</td>\n",
       "      <td>571</td>\n",
       "    </tr>\n",
       "    <tr>\n",
       "      <th>4</th>\n",
       "      <td>8540.0</td>\n",
       "      <td>10399.0</td>\n",
       "      <td>298.0</td>\n",
       "      <td>16213.1</td>\n",
       "      <td>20199.0</td>\n",
       "      <td>2474.91</td>\n",
       "      <td>965</td>\n",
       "      <td>1073</td>\n",
       "      <td>6509</td>\n",
       "    </tr>\n",
       "    <tr>\n",
       "      <th>...</th>\n",
       "      <td>...</td>\n",
       "      <td>...</td>\n",
       "      <td>...</td>\n",
       "      <td>...</td>\n",
       "      <td>...</td>\n",
       "      <td>...</td>\n",
       "      <td>...</td>\n",
       "      <td>...</td>\n",
       "      <td>...</td>\n",
       "    </tr>\n",
       "    <tr>\n",
       "      <th>274854</th>\n",
       "      <td>5668.0</td>\n",
       "      <td>6357.0</td>\n",
       "      <td>8764.0</td>\n",
       "      <td>10360.3</td>\n",
       "      <td>12168.4</td>\n",
       "      <td>17125.70</td>\n",
       "      <td>754</td>\n",
       "      <td>41</td>\n",
       "      <td>4002</td>\n",
       "    </tr>\n",
       "    <tr>\n",
       "      <th>274855</th>\n",
       "      <td>5585.0</td>\n",
       "      <td>5984.0</td>\n",
       "      <td>8773.0</td>\n",
       "      <td>10135.9</td>\n",
       "      <td>11480.5</td>\n",
       "      <td>16992.40</td>\n",
       "      <td>754</td>\n",
       "      <td>16</td>\n",
       "      <td>1715</td>\n",
       "    </tr>\n",
       "    <tr>\n",
       "      <th>274856</th>\n",
       "      <td>5610.0</td>\n",
       "      <td>6241.0</td>\n",
       "      <td>8773.0</td>\n",
       "      <td>10246.0</td>\n",
       "      <td>11954.6</td>\n",
       "      <td>17080.50</td>\n",
       "      <td>754</td>\n",
       "      <td>5</td>\n",
       "      <td>571</td>\n",
       "    </tr>\n",
       "    <tr>\n",
       "      <th>274857</th>\n",
       "      <td>5652.0</td>\n",
       "      <td>6308.0</td>\n",
       "      <td>8773.0</td>\n",
       "      <td>10322.4</td>\n",
       "      <td>12075.6</td>\n",
       "      <td>17127.30</td>\n",
       "      <td>754</td>\n",
       "      <td>5</td>\n",
       "      <td>571</td>\n",
       "    </tr>\n",
       "    <tr>\n",
       "      <th>274858</th>\n",
       "      <td>5735.0</td>\n",
       "      <td>6581.0</td>\n",
       "      <td>8773.0</td>\n",
       "      <td>10494.7</td>\n",
       "      <td>12542.6</td>\n",
       "      <td>17166.60</td>\n",
       "      <td>754</td>\n",
       "      <td>5</td>\n",
       "      <td>571</td>\n",
       "    </tr>\n",
       "  </tbody>\n",
       "</table>\n",
       "<p>274859 rows × 9 columns</p>\n",
       "</div>"
      ],
      "text/plain": [
       "             X        Y       Z  mapped_X  mapped_Y  mapped_Z  Allen_ID  \\\n",
       "0       8914.0   9486.0   249.0   16767.8   18597.5   2495.98      1066   \n",
       "1       9196.0   9943.0   265.0   17304.0   19331.1   2512.24       805   \n",
       "2       8490.0  10640.0   273.0   16174.3   20621.2   2528.42       671   \n",
       "3       8715.0  10524.0   273.0   16553.6   20392.3   2522.33       805   \n",
       "4       8540.0  10399.0   298.0   16213.1   20199.0   2474.91       965   \n",
       "...        ...      ...     ...       ...       ...       ...       ...   \n",
       "274854  5668.0   6357.0  8764.0   10360.3   12168.4  17125.70       754   \n",
       "274855  5585.0   5984.0  8773.0   10135.9   11480.5  16992.40       754   \n",
       "274856  5610.0   6241.0  8773.0   10246.0   11954.6  17080.50       754   \n",
       "274857  5652.0   6308.0  8773.0   10322.4   12075.6  17127.30       754   \n",
       "274858  5735.0   6581.0  8773.0   10494.7   12542.6  17166.60       754   \n",
       "\n",
       "        deltaI    vol  \n",
       "0           32   2858  \n",
       "1           20   2287  \n",
       "2          166  10863  \n",
       "3            5    571  \n",
       "4         1073   6509  \n",
       "...        ...    ...  \n",
       "274854      41   4002  \n",
       "274855      16   1715  \n",
       "274856       5    571  \n",
       "274857       5    571  \n",
       "274858       5    571  \n",
       "\n",
       "[274859 rows x 9 columns]"
      ]
     },
     "execution_count": 15,
     "metadata": {},
     "output_type": "execute_result"
    }
   ],
   "source": [
    "df_tau"
   ]
  },
  {
   "cell_type": "code",
   "execution_count": 22,
   "metadata": {},
   "outputs": [
    {
     "data": {
      "text/html": [
       "<div>\n",
       "<style scoped>\n",
       "    .dataframe tbody tr th:only-of-type {\n",
       "        vertical-align: middle;\n",
       "    }\n",
       "\n",
       "    .dataframe tbody tr th {\n",
       "        vertical-align: top;\n",
       "    }\n",
       "\n",
       "    .dataframe thead th {\n",
       "        text-align: right;\n",
       "    }\n",
       "</style>\n",
       "<table border=\"1\" class=\"dataframe\">\n",
       "  <thead>\n",
       "    <tr style=\"text-align: right;\">\n",
       "      <th></th>\n",
       "      <th>X</th>\n",
       "      <th>Y</th>\n",
       "      <th>Z</th>\n",
       "      <th>mapped_X</th>\n",
       "      <th>mapped_Y</th>\n",
       "      <th>mapped_Z</th>\n",
       "      <th>Allen_ID</th>\n",
       "      <th>deltaI</th>\n",
       "      <th>vol</th>\n",
       "    </tr>\n",
       "  </thead>\n",
       "  <tbody>\n",
       "    <tr>\n",
       "      <th>0</th>\n",
       "      <td>8914.0</td>\n",
       "      <td>9486.0</td>\n",
       "      <td>249.0</td>\n",
       "      <td>16767.8</td>\n",
       "      <td>18597.5</td>\n",
       "      <td>2495.98</td>\n",
       "      <td>1066</td>\n",
       "      <td>32</td>\n",
       "      <td>2858</td>\n",
       "    </tr>\n",
       "    <tr>\n",
       "      <th>1</th>\n",
       "      <td>9196.0</td>\n",
       "      <td>9943.0</td>\n",
       "      <td>265.0</td>\n",
       "      <td>17304.0</td>\n",
       "      <td>19331.1</td>\n",
       "      <td>2512.24</td>\n",
       "      <td>805</td>\n",
       "      <td>20</td>\n",
       "      <td>2287</td>\n",
       "    </tr>\n",
       "    <tr>\n",
       "      <th>2</th>\n",
       "      <td>8490.0</td>\n",
       "      <td>10640.0</td>\n",
       "      <td>273.0</td>\n",
       "      <td>16174.3</td>\n",
       "      <td>20621.2</td>\n",
       "      <td>2528.42</td>\n",
       "      <td>671</td>\n",
       "      <td>166</td>\n",
       "      <td>10863</td>\n",
       "    </tr>\n",
       "    <tr>\n",
       "      <th>3</th>\n",
       "      <td>8715.0</td>\n",
       "      <td>10524.0</td>\n",
       "      <td>273.0</td>\n",
       "      <td>16553.6</td>\n",
       "      <td>20392.3</td>\n",
       "      <td>2522.33</td>\n",
       "      <td>805</td>\n",
       "      <td>5</td>\n",
       "      <td>571</td>\n",
       "    </tr>\n",
       "    <tr>\n",
       "      <th>4</th>\n",
       "      <td>8540.0</td>\n",
       "      <td>10399.0</td>\n",
       "      <td>298.0</td>\n",
       "      <td>16213.1</td>\n",
       "      <td>20199.0</td>\n",
       "      <td>2474.91</td>\n",
       "      <td>965</td>\n",
       "      <td>1073</td>\n",
       "      <td>6509</td>\n",
       "    </tr>\n",
       "    <tr>\n",
       "      <th>...</th>\n",
       "      <td>...</td>\n",
       "      <td>...</td>\n",
       "      <td>...</td>\n",
       "      <td>...</td>\n",
       "      <td>...</td>\n",
       "      <td>...</td>\n",
       "      <td>...</td>\n",
       "      <td>...</td>\n",
       "      <td>...</td>\n",
       "    </tr>\n",
       "    <tr>\n",
       "      <th>274854</th>\n",
       "      <td>5668.0</td>\n",
       "      <td>6357.0</td>\n",
       "      <td>8764.0</td>\n",
       "      <td>10360.3</td>\n",
       "      <td>12168.4</td>\n",
       "      <td>17125.70</td>\n",
       "      <td>754</td>\n",
       "      <td>41</td>\n",
       "      <td>4002</td>\n",
       "    </tr>\n",
       "    <tr>\n",
       "      <th>274855</th>\n",
       "      <td>5585.0</td>\n",
       "      <td>5984.0</td>\n",
       "      <td>8773.0</td>\n",
       "      <td>10135.9</td>\n",
       "      <td>11480.5</td>\n",
       "      <td>16992.40</td>\n",
       "      <td>754</td>\n",
       "      <td>16</td>\n",
       "      <td>1715</td>\n",
       "    </tr>\n",
       "    <tr>\n",
       "      <th>274856</th>\n",
       "      <td>5610.0</td>\n",
       "      <td>6241.0</td>\n",
       "      <td>8773.0</td>\n",
       "      <td>10246.0</td>\n",
       "      <td>11954.6</td>\n",
       "      <td>17080.50</td>\n",
       "      <td>754</td>\n",
       "      <td>5</td>\n",
       "      <td>571</td>\n",
       "    </tr>\n",
       "    <tr>\n",
       "      <th>274857</th>\n",
       "      <td>5652.0</td>\n",
       "      <td>6308.0</td>\n",
       "      <td>8773.0</td>\n",
       "      <td>10322.4</td>\n",
       "      <td>12075.6</td>\n",
       "      <td>17127.30</td>\n",
       "      <td>754</td>\n",
       "      <td>5</td>\n",
       "      <td>571</td>\n",
       "    </tr>\n",
       "    <tr>\n",
       "      <th>274858</th>\n",
       "      <td>5735.0</td>\n",
       "      <td>6581.0</td>\n",
       "      <td>8773.0</td>\n",
       "      <td>10494.7</td>\n",
       "      <td>12542.6</td>\n",
       "      <td>17166.60</td>\n",
       "      <td>754</td>\n",
       "      <td>5</td>\n",
       "      <td>571</td>\n",
       "    </tr>\n",
       "  </tbody>\n",
       "</table>\n",
       "<p>253003 rows × 9 columns</p>\n",
       "</div>"
      ],
      "text/plain": [
       "             X        Y       Z  mapped_X  mapped_Y  mapped_Z  Allen_ID  \\\n",
       "0       8914.0   9486.0   249.0   16767.8   18597.5   2495.98      1066   \n",
       "1       9196.0   9943.0   265.0   17304.0   19331.1   2512.24       805   \n",
       "2       8490.0  10640.0   273.0   16174.3   20621.2   2528.42       671   \n",
       "3       8715.0  10524.0   273.0   16553.6   20392.3   2522.33       805   \n",
       "4       8540.0  10399.0   298.0   16213.1   20199.0   2474.91       965   \n",
       "...        ...      ...     ...       ...       ...       ...       ...   \n",
       "274854  5668.0   6357.0  8764.0   10360.3   12168.4  17125.70       754   \n",
       "274855  5585.0   5984.0  8773.0   10135.9   11480.5  16992.40       754   \n",
       "274856  5610.0   6241.0  8773.0   10246.0   11954.6  17080.50       754   \n",
       "274857  5652.0   6308.0  8773.0   10322.4   12075.6  17127.30       754   \n",
       "274858  5735.0   6581.0  8773.0   10494.7   12542.6  17166.60       754   \n",
       "\n",
       "        deltaI    vol  \n",
       "0           32   2858  \n",
       "1           20   2287  \n",
       "2          166  10863  \n",
       "3            5    571  \n",
       "4         1073   6509  \n",
       "...        ...    ...  \n",
       "274854      41   4002  \n",
       "274855      16   1715  \n",
       "274856       5    571  \n",
       "274857       5    571  \n",
       "274858       5    571  \n",
       "\n",
       "[253003 rows x 9 columns]"
      ]
     },
     "execution_count": 22,
     "metadata": {},
     "output_type": "execute_result"
    }
   ],
   "source": [
    "df_tau_noise_removed"
   ]
  },
  {
   "cell_type": "code",
   "execution_count": 32,
   "metadata": {},
   "outputs": [],
   "source": [
    "# Remove signals related to the fiber tracts\",\"VS\"in this analysis.\n",
    "# Exclude entries containing an Allen_ID in oya_id[0].\n",
    "\n",
    "df_tau_noise_removed = []\n",
    "df_tau_noise_removed = df_tau[~df_tau['Allen_ID'].isin(oya_id[0] + oya_id[1])]"
   ]
  },
  {
   "cell_type": "code",
   "execution_count": 24,
   "metadata": {},
   "outputs": [],
   "source": [
    "blunk_array_0 =np.full(len(df_tau_noise_removed[\"X\"]), 0.0)"
   ]
  },
  {
   "cell_type": "code",
   "execution_count": 33,
   "metadata": {},
   "outputs": [
    {
     "data": {
      "text/html": [
       "<div>\n",
       "<style scoped>\n",
       "    .dataframe tbody tr th:only-of-type {\n",
       "        vertical-align: middle;\n",
       "    }\n",
       "\n",
       "    .dataframe tbody tr th {\n",
       "        vertical-align: top;\n",
       "    }\n",
       "\n",
       "    .dataframe thead th {\n",
       "        text-align: right;\n",
       "    }\n",
       "</style>\n",
       "<table border=\"1\" class=\"dataframe\">\n",
       "  <thead>\n",
       "    <tr style=\"text-align: right;\">\n",
       "      <th></th>\n",
       "      <th>X</th>\n",
       "      <th>Y</th>\n",
       "      <th>Z</th>\n",
       "      <th>mapped_X</th>\n",
       "      <th>mapped_Y</th>\n",
       "      <th>mapped_Z</th>\n",
       "      <th>Allen_ID</th>\n",
       "      <th>deltaI</th>\n",
       "      <th>vol</th>\n",
       "    </tr>\n",
       "  </thead>\n",
       "  <tbody>\n",
       "    <tr>\n",
       "      <th>0</th>\n",
       "      <td>8914.0</td>\n",
       "      <td>9486.0</td>\n",
       "      <td>249.0</td>\n",
       "      <td>16767.8</td>\n",
       "      <td>18597.5</td>\n",
       "      <td>2495.98</td>\n",
       "      <td>1066</td>\n",
       "      <td>32</td>\n",
       "      <td>2858</td>\n",
       "    </tr>\n",
       "    <tr>\n",
       "      <th>1</th>\n",
       "      <td>9196.0</td>\n",
       "      <td>9943.0</td>\n",
       "      <td>265.0</td>\n",
       "      <td>17304.0</td>\n",
       "      <td>19331.1</td>\n",
       "      <td>2512.24</td>\n",
       "      <td>805</td>\n",
       "      <td>20</td>\n",
       "      <td>2287</td>\n",
       "    </tr>\n",
       "    <tr>\n",
       "      <th>2</th>\n",
       "      <td>8490.0</td>\n",
       "      <td>10640.0</td>\n",
       "      <td>273.0</td>\n",
       "      <td>16174.3</td>\n",
       "      <td>20621.2</td>\n",
       "      <td>2528.42</td>\n",
       "      <td>671</td>\n",
       "      <td>166</td>\n",
       "      <td>10863</td>\n",
       "    </tr>\n",
       "    <tr>\n",
       "      <th>3</th>\n",
       "      <td>8715.0</td>\n",
       "      <td>10524.0</td>\n",
       "      <td>273.0</td>\n",
       "      <td>16553.6</td>\n",
       "      <td>20392.3</td>\n",
       "      <td>2522.33</td>\n",
       "      <td>805</td>\n",
       "      <td>5</td>\n",
       "      <td>571</td>\n",
       "    </tr>\n",
       "    <tr>\n",
       "      <th>4</th>\n",
       "      <td>8540.0</td>\n",
       "      <td>10399.0</td>\n",
       "      <td>298.0</td>\n",
       "      <td>16213.1</td>\n",
       "      <td>20199.0</td>\n",
       "      <td>2474.91</td>\n",
       "      <td>965</td>\n",
       "      <td>1073</td>\n",
       "      <td>6509</td>\n",
       "    </tr>\n",
       "    <tr>\n",
       "      <th>...</th>\n",
       "      <td>...</td>\n",
       "      <td>...</td>\n",
       "      <td>...</td>\n",
       "      <td>...</td>\n",
       "      <td>...</td>\n",
       "      <td>...</td>\n",
       "      <td>...</td>\n",
       "      <td>...</td>\n",
       "      <td>...</td>\n",
       "    </tr>\n",
       "    <tr>\n",
       "      <th>274854</th>\n",
       "      <td>5668.0</td>\n",
       "      <td>6357.0</td>\n",
       "      <td>8764.0</td>\n",
       "      <td>10360.3</td>\n",
       "      <td>12168.4</td>\n",
       "      <td>17125.70</td>\n",
       "      <td>754</td>\n",
       "      <td>41</td>\n",
       "      <td>4002</td>\n",
       "    </tr>\n",
       "    <tr>\n",
       "      <th>274855</th>\n",
       "      <td>5585.0</td>\n",
       "      <td>5984.0</td>\n",
       "      <td>8773.0</td>\n",
       "      <td>10135.9</td>\n",
       "      <td>11480.5</td>\n",
       "      <td>16992.40</td>\n",
       "      <td>754</td>\n",
       "      <td>16</td>\n",
       "      <td>1715</td>\n",
       "    </tr>\n",
       "    <tr>\n",
       "      <th>274856</th>\n",
       "      <td>5610.0</td>\n",
       "      <td>6241.0</td>\n",
       "      <td>8773.0</td>\n",
       "      <td>10246.0</td>\n",
       "      <td>11954.6</td>\n",
       "      <td>17080.50</td>\n",
       "      <td>754</td>\n",
       "      <td>5</td>\n",
       "      <td>571</td>\n",
       "    </tr>\n",
       "    <tr>\n",
       "      <th>274857</th>\n",
       "      <td>5652.0</td>\n",
       "      <td>6308.0</td>\n",
       "      <td>8773.0</td>\n",
       "      <td>10322.4</td>\n",
       "      <td>12075.6</td>\n",
       "      <td>17127.30</td>\n",
       "      <td>754</td>\n",
       "      <td>5</td>\n",
       "      <td>571</td>\n",
       "    </tr>\n",
       "    <tr>\n",
       "      <th>274858</th>\n",
       "      <td>5735.0</td>\n",
       "      <td>6581.0</td>\n",
       "      <td>8773.0</td>\n",
       "      <td>10494.7</td>\n",
       "      <td>12542.6</td>\n",
       "      <td>17166.60</td>\n",
       "      <td>754</td>\n",
       "      <td>5</td>\n",
       "      <td>571</td>\n",
       "    </tr>\n",
       "  </tbody>\n",
       "</table>\n",
       "<p>253003 rows × 9 columns</p>\n",
       "</div>"
      ],
      "text/plain": [
       "             X        Y       Z  mapped_X  mapped_Y  mapped_Z  Allen_ID  \\\n",
       "0       8914.0   9486.0   249.0   16767.8   18597.5   2495.98      1066   \n",
       "1       9196.0   9943.0   265.0   17304.0   19331.1   2512.24       805   \n",
       "2       8490.0  10640.0   273.0   16174.3   20621.2   2528.42       671   \n",
       "3       8715.0  10524.0   273.0   16553.6   20392.3   2522.33       805   \n",
       "4       8540.0  10399.0   298.0   16213.1   20199.0   2474.91       965   \n",
       "...        ...      ...     ...       ...       ...       ...       ...   \n",
       "274854  5668.0   6357.0  8764.0   10360.3   12168.4  17125.70       754   \n",
       "274855  5585.0   5984.0  8773.0   10135.9   11480.5  16992.40       754   \n",
       "274856  5610.0   6241.0  8773.0   10246.0   11954.6  17080.50       754   \n",
       "274857  5652.0   6308.0  8773.0   10322.4   12075.6  17127.30       754   \n",
       "274858  5735.0   6581.0  8773.0   10494.7   12542.6  17166.60       754   \n",
       "\n",
       "        deltaI    vol  \n",
       "0           32   2858  \n",
       "1           20   2287  \n",
       "2          166  10863  \n",
       "3            5    571  \n",
       "4         1073   6509  \n",
       "...        ...    ...  \n",
       "274854      41   4002  \n",
       "274855      16   1715  \n",
       "274856       5    571  \n",
       "274857       5    571  \n",
       "274858       5    571  \n",
       "\n",
       "[253003 rows x 9 columns]"
      ]
     },
     "execution_count": 33,
     "metadata": {},
     "output_type": "execute_result"
    }
   ],
   "source": [
    "df_tau_noise_removed"
   ]
  },
  {
   "cell_type": "code",
   "execution_count": 37,
   "metadata": {},
   "outputs": [
    {
     "data": {
      "text/html": [
       "<div>\n",
       "<style scoped>\n",
       "    .dataframe tbody tr th:only-of-type {\n",
       "        vertical-align: middle;\n",
       "    }\n",
       "\n",
       "    .dataframe tbody tr th {\n",
       "        vertical-align: top;\n",
       "    }\n",
       "\n",
       "    .dataframe thead th {\n",
       "        text-align: right;\n",
       "    }\n",
       "</style>\n",
       "<table border=\"1\" class=\"dataframe\">\n",
       "  <thead>\n",
       "    <tr style=\"text-align: right;\">\n",
       "      <th></th>\n",
       "      <th>X</th>\n",
       "      <th>Y</th>\n",
       "      <th>Z</th>\n",
       "      <th>deltaI</th>\n",
       "      <th>BG</th>\n",
       "      <th>vol</th>\n",
       "      <th>deltaI_total</th>\n",
       "    </tr>\n",
       "  </thead>\n",
       "  <tbody>\n",
       "    <tr>\n",
       "      <th>0</th>\n",
       "      <td>8914</td>\n",
       "      <td>9486</td>\n",
       "      <td>249</td>\n",
       "      <td>32</td>\n",
       "      <td>0</td>\n",
       "      <td>2858</td>\n",
       "      <td>32</td>\n",
       "    </tr>\n",
       "    <tr>\n",
       "      <th>1</th>\n",
       "      <td>9196</td>\n",
       "      <td>9943</td>\n",
       "      <td>265</td>\n",
       "      <td>20</td>\n",
       "      <td>0</td>\n",
       "      <td>2287</td>\n",
       "      <td>20</td>\n",
       "    </tr>\n",
       "    <tr>\n",
       "      <th>2</th>\n",
       "      <td>8490</td>\n",
       "      <td>10640</td>\n",
       "      <td>273</td>\n",
       "      <td>166</td>\n",
       "      <td>0</td>\n",
       "      <td>10863</td>\n",
       "      <td>166</td>\n",
       "    </tr>\n",
       "    <tr>\n",
       "      <th>3</th>\n",
       "      <td>8715</td>\n",
       "      <td>10524</td>\n",
       "      <td>273</td>\n",
       "      <td>5</td>\n",
       "      <td>0</td>\n",
       "      <td>571</td>\n",
       "      <td>5</td>\n",
       "    </tr>\n",
       "    <tr>\n",
       "      <th>4</th>\n",
       "      <td>8540</td>\n",
       "      <td>10399</td>\n",
       "      <td>298</td>\n",
       "      <td>1073</td>\n",
       "      <td>0</td>\n",
       "      <td>6509</td>\n",
       "      <td>1073</td>\n",
       "    </tr>\n",
       "    <tr>\n",
       "      <th>...</th>\n",
       "      <td>...</td>\n",
       "      <td>...</td>\n",
       "      <td>...</td>\n",
       "      <td>...</td>\n",
       "      <td>...</td>\n",
       "      <td>...</td>\n",
       "      <td>...</td>\n",
       "    </tr>\n",
       "    <tr>\n",
       "      <th>252998</th>\n",
       "      <td>5668</td>\n",
       "      <td>6357</td>\n",
       "      <td>8764</td>\n",
       "      <td>41</td>\n",
       "      <td>0</td>\n",
       "      <td>4002</td>\n",
       "      <td>41</td>\n",
       "    </tr>\n",
       "    <tr>\n",
       "      <th>252999</th>\n",
       "      <td>5585</td>\n",
       "      <td>5984</td>\n",
       "      <td>8773</td>\n",
       "      <td>16</td>\n",
       "      <td>0</td>\n",
       "      <td>1715</td>\n",
       "      <td>16</td>\n",
       "    </tr>\n",
       "    <tr>\n",
       "      <th>253000</th>\n",
       "      <td>5610</td>\n",
       "      <td>6241</td>\n",
       "      <td>8773</td>\n",
       "      <td>5</td>\n",
       "      <td>0</td>\n",
       "      <td>571</td>\n",
       "      <td>5</td>\n",
       "    </tr>\n",
       "    <tr>\n",
       "      <th>253001</th>\n",
       "      <td>5652</td>\n",
       "      <td>6308</td>\n",
       "      <td>8773</td>\n",
       "      <td>5</td>\n",
       "      <td>0</td>\n",
       "      <td>571</td>\n",
       "      <td>5</td>\n",
       "    </tr>\n",
       "    <tr>\n",
       "      <th>253002</th>\n",
       "      <td>5735</td>\n",
       "      <td>6581</td>\n",
       "      <td>8773</td>\n",
       "      <td>5</td>\n",
       "      <td>0</td>\n",
       "      <td>571</td>\n",
       "      <td>5</td>\n",
       "    </tr>\n",
       "  </tbody>\n",
       "</table>\n",
       "<p>253003 rows × 7 columns</p>\n",
       "</div>"
      ],
      "text/plain": [
       "           X      Y     Z  deltaI  BG    vol  deltaI_total\n",
       "0       8914   9486   249      32   0   2858            32\n",
       "1       9196   9943   265      20   0   2287            20\n",
       "2       8490  10640   273     166   0  10863           166\n",
       "3       8715  10524   273       5   0    571             5\n",
       "4       8540  10399   298    1073   0   6509          1073\n",
       "...      ...    ...   ...     ...  ..    ...           ...\n",
       "252998  5668   6357  8764      41   0   4002            41\n",
       "252999  5585   5984  8773      16   0   1715            16\n",
       "253000  5610   6241  8773       5   0    571             5\n",
       "253001  5652   6308  8773       5   0    571             5\n",
       "253002  5735   6581  8773       5   0    571             5\n",
       "\n",
       "[253003 rows x 7 columns]"
      ]
     },
     "execution_count": 37,
     "metadata": {},
     "output_type": "execute_result"
    }
   ],
   "source": [
    "df13"
   ]
  },
  {
   "cell_type": "code",
   "execution_count": 40,
   "metadata": {},
   "outputs": [],
   "source": [
    "# pTau data was saved as csv.\n",
    "# This is equivalent to ID_357_tau_point_data_without_FT_VS.csv after removed \"fiber tracts\",\"VS\" belonging smallest regions.\n",
    "\n",
    "df13 = []\n",
    "df13 = pd.DataFrame({\n",
    "    \"X\":pd.Series(np.array(df_tau_noise_removed[\"mapped_X\"]), dtype=np.int64),\n",
    "    \"Y\":pd.Series(np.array(df_tau_noise_removed[\"mapped_Y\"]), dtype=np.int64),\n",
    "    \"Z\":pd.Series(np.array(df_tau_noise_removed[\"mapped_Z\"]), dtype=np.int64),\n",
    "    \"Allen_ID\":pd.Series(np.array(df_tau_noise_removed[\"Allen_ID\"]), dtype=np.int64),\n",
    "    \"deltaI\":pd.Series(np.array(df_tau_noise_removed[\"deltaI\"]), dtype=np.int64),\n",
    "    \"BG\":pd.Series(blunk_array_0, dtype=np.int64),\n",
    "    \"vol\":pd.Series(np.array(df_tau_noise_removed[\"vol\"]), dtype=np.int64),\n",
    "    \"deltaI_total\":pd.Series(np.array(df_tau_noise_removed[\"deltaI\"]), dtype=np.int64)\n",
    "        })\n",
    "\n",
    "\n",
    "dir1 = \"/export3/Imaging/Axial/\"+PathPool[0]\n",
    "\n",
    "csv_tau = dir1 + \"csv_tau12_um_aligned_FT_VS.csv\"\n",
    "\n",
    "df13= df13.astype('int')\n",
    "df13.to_csv(csv_tau, index=False, header=True, chunksize=50000,\n",
    "            columns=[\"X\",\"Y\",\"Z\",\"Allen_ID\",\"deltaI\",\"BG\",\"vol\",\"deltaI_total\"])"
   ]
  },
  {
   "cell_type": "code",
   "execution_count": 170,
   "metadata": {},
   "outputs": [],
   "source": [
    "# Check: Tau Intensity per 50x50x50μm Voxel\n",
    "ptsw25 = []\n",
    "ptsw25 = pd.DataFrame({\n",
    "    \"x\":pd.Series(np.array(df_tau_noise_removed[\"X\"])*scale, dtype=np.float),\n",
    "    \"y\":pd.Series(np.array(df_tau_noise_removed[\"Y\"])*scale, dtype=np.float),\n",
    "    \"z\":pd.Series(np.array(df_tau_noise_removed[\"Z\"])*scale, dtype=np.float),\n",
    "        })\n",
    "\n",
    "depth_ori = 177#234\n",
    "height_ori =333#413\n",
    "width_ori = 281#335\n",
    "\n",
    "img_N_ori,_ = np.histogramdd(\n",
    "    np.vstack([\n",
    "        ptsw25['z'].values,\n",
    "        ptsw25['y'].values,\n",
    "        ptsw25['x'].values\n",
    "        ]).T,\n",
    "        bins=(depth_ori, height_ori, width_ori),\n",
    "        range=[(0,depth_ori-1),(0,height_ori-1),(0,width_ori-1)]\n",
    "    )\n",
    "\n",
    "\n",
    "tifffile.imsave(\n",
    "        dir1+ \"tau_density_50um_in_real_space.tif\",\n",
    "        img_N_ori.astype(np.uint16)\n",
    "    )"
   ]
  },
  {
   "cell_type": "code",
   "execution_count": 183,
   "metadata": {},
   "outputs": [],
   "source": [
    "# Check: Tau Intensity per 50x50x50μm Voxel\n",
    "ptsw25 = []\n",
    "ptsw25 = pd.DataFrame({\n",
    "    \"x\":pd.Series(np.array(df_tau_noise_removed[\"mapped_X\"])*scale, dtype=np.float),\n",
    "    \"y\":pd.Series(np.array(df_tau_noise_removed[\"mapped_Y\"])*scale, dtype=np.float),\n",
    "    \"z\":pd.Series(np.array(df_tau_noise_removed[\"mapped_Z\"])*scale, dtype=np.float),\n",
    "        })\n",
    "\n",
    "depth_ori = 234\n",
    "height_ori =413\n",
    "width_ori = 335\n",
    "\n",
    "img_N_ori2,_ = np.histogramdd(\n",
    "    np.vstack([\n",
    "        ptsw25['z'].values,\n",
    "        ptsw25['y'].values,\n",
    "        ptsw25['x'].values\n",
    "        ]).T,\n",
    "        bins=(depth_ori, height_ori, width_ori),\n",
    "        range=[(0,depth_ori-1),(0,height_ori-1),(0,width_ori-1)]\n",
    "    )\n",
    "\n",
    "\n",
    "tifffile.imsave(\n",
    "        dir1+ \"tau_density_50um_in_atlas_space2.tif\",\n",
    "        img_N_ori2.astype(np.uint16)\n",
    "    )"
   ]
  },
  {
   "cell_type": "code",
   "execution_count": null,
   "metadata": {},
   "outputs": [],
   "source": []
  }
 ],
 "metadata": {
  "kernelspec": {
   "display_name": "Python 3",
   "language": "python",
   "name": "python3"
  },
  "language_info": {
   "codemirror_mode": {
    "name": "ipython",
    "version": 3
   },
   "file_extension": ".py",
   "mimetype": "text/x-python",
   "name": "python",
   "nbconvert_exporter": "python",
   "pygments_lexer": "ipython3",
   "version": "3.6.8"
  }
 },
 "nbformat": 4,
 "nbformat_minor": 4
}
